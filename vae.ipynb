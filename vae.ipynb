{
 "cells": [
  {
   "cell_type": "markdown",
   "metadata": {},
   "source": [
    "# VAE Model\n",
    "\n",
    "Train the variational auto-encoder to mimic Phoenix temperature data."
   ]
  },
  {
   "cell_type": "code",
   "execution_count": 1,
   "metadata": {},
   "outputs": [],
   "source": [
    "# import libraries\n",
    "import pandas as pd\n",
    "import numpy as np\n",
    "import tensorflow as tf\n",
    "from tensorflow.keras import layers, models\n",
    "from tensorflow.keras.optimizers import Adam\n",
    "import matplotlib.pyplot as plt\n",
    "\n",
    "from helper_functions import *"
   ]
  },
  {
   "cell_type": "code",
   "execution_count": 2,
   "metadata": {},
   "outputs": [],
   "source": [
    "# define constants\n",
    "INPUT_SIZE = 64*24 # dimensions of the input data\n",
    "DEGREE = 3 # degree of fourier series for seasonal inputs\n",
    "LATENT_SIZE = 4*24 # the hours associated with each latent variable"
   ]
  },
  {
   "cell_type": "markdown",
   "metadata": {},
   "source": [
    "## Read Training Data\n",
    "\n",
    "See `process_data.ipynb` for the preparation of input data."
   ]
  },
  {
   "cell_type": "code",
   "execution_count": 3,
   "metadata": {},
   "outputs": [
    {
     "data": {
      "text/html": [
       "<div>\n",
       "<style scoped>\n",
       "    .dataframe tbody tr th:only-of-type {\n",
       "        vertical-align: middle;\n",
       "    }\n",
       "\n",
       "    .dataframe tbody tr th {\n",
       "        vertical-align: top;\n",
       "    }\n",
       "\n",
       "    .dataframe thead th {\n",
       "        text-align: right;\n",
       "    }\n",
       "</style>\n",
       "<table border=\"1\" class=\"dataframe\">\n",
       "  <thead>\n",
       "    <tr style=\"text-align: right;\">\n",
       "      <th></th>\n",
       "      <th>0</th>\n",
       "      <th>1</th>\n",
       "      <th>2</th>\n",
       "      <th>3</th>\n",
       "      <th>4</th>\n",
       "      <th>5</th>\n",
       "      <th>6</th>\n",
       "      <th>7</th>\n",
       "      <th>8</th>\n",
       "      <th>9</th>\n",
       "      <th>...</th>\n",
       "      <th>1526</th>\n",
       "      <th>1527</th>\n",
       "      <th>1528</th>\n",
       "      <th>1529</th>\n",
       "      <th>1530</th>\n",
       "      <th>1531</th>\n",
       "      <th>1532</th>\n",
       "      <th>1533</th>\n",
       "      <th>1534</th>\n",
       "      <th>1535</th>\n",
       "    </tr>\n",
       "  </thead>\n",
       "  <tbody>\n",
       "    <tr>\n",
       "      <th>1975-07-31</th>\n",
       "      <td>0.964283</td>\n",
       "      <td>0.758682</td>\n",
       "      <td>0.677235</td>\n",
       "      <td>0.667352</td>\n",
       "      <td>0.664610</td>\n",
       "      <td>0.607691</td>\n",
       "      <td>0.600477</td>\n",
       "      <td>0.801750</td>\n",
       "      <td>1.029786</td>\n",
       "      <td>1.009659</td>\n",
       "      <td>...</td>\n",
       "      <td>1.320080</td>\n",
       "      <td>1.315175</td>\n",
       "      <td>1.319647</td>\n",
       "      <td>1.315680</td>\n",
       "      <td>1.320585</td>\n",
       "      <td>0.886659</td>\n",
       "      <td>0.720375</td>\n",
       "      <td>0.695270</td>\n",
       "      <td>0.405120</td>\n",
       "      <td>0.365732</td>\n",
       "    </tr>\n",
       "    <tr>\n",
       "      <th>2017-08-19</th>\n",
       "      <td>0.703717</td>\n",
       "      <td>0.624205</td>\n",
       "      <td>0.521373</td>\n",
       "      <td>0.234700</td>\n",
       "      <td>0.337318</td>\n",
       "      <td>0.317850</td>\n",
       "      <td>0.227569</td>\n",
       "      <td>0.316138</td>\n",
       "      <td>0.638538</td>\n",
       "      <td>0.848409</td>\n",
       "      <td>...</td>\n",
       "      <td>0.345234</td>\n",
       "      <td>0.439151</td>\n",
       "      <td>0.485718</td>\n",
       "      <td>0.474878</td>\n",
       "      <td>0.369622</td>\n",
       "      <td>0.182857</td>\n",
       "      <td>0.012565</td>\n",
       "      <td>-0.023234</td>\n",
       "      <td>-0.123142</td>\n",
       "      <td>-0.315327</td>\n",
       "    </tr>\n",
       "    <tr>\n",
       "      <th>2001-07-06</th>\n",
       "      <td>0.839117</td>\n",
       "      <td>0.792497</td>\n",
       "      <td>0.617997</td>\n",
       "      <td>0.504204</td>\n",
       "      <td>0.451051</td>\n",
       "      <td>0.428592</td>\n",
       "      <td>0.352912</td>\n",
       "      <td>0.317114</td>\n",
       "      <td>0.430974</td>\n",
       "      <td>0.341955</td>\n",
       "      <td>...</td>\n",
       "      <td>1.397530</td>\n",
       "      <td>1.493560</td>\n",
       "      <td>1.484917</td>\n",
       "      <td>1.475048</td>\n",
       "      <td>1.471033</td>\n",
       "      <td>1.442517</td>\n",
       "      <td>0.777592</td>\n",
       "      <td>0.770106</td>\n",
       "      <td>0.652979</td>\n",
       "      <td>0.604590</td>\n",
       "    </tr>\n",
       "    <tr>\n",
       "      <th>2010-08-16</th>\n",
       "      <td>1.240002</td>\n",
       "      <td>1.121574</td>\n",
       "      <td>0.926427</td>\n",
       "      <td>0.802889</td>\n",
       "      <td>0.745228</td>\n",
       "      <td>0.727412</td>\n",
       "      <td>0.694128</td>\n",
       "      <td>0.678177</td>\n",
       "      <td>0.874774</td>\n",
       "      <td>0.905918</td>\n",
       "      <td>...</td>\n",
       "      <td>0.542830</td>\n",
       "      <td>0.585644</td>\n",
       "      <td>0.596969</td>\n",
       "      <td>0.592411</td>\n",
       "      <td>0.527708</td>\n",
       "      <td>0.450505</td>\n",
       "      <td>0.173873</td>\n",
       "      <td>0.086105</td>\n",
       "      <td>0.030448</td>\n",
       "      <td>-0.082456</td>\n",
       "    </tr>\n",
       "    <tr>\n",
       "      <th>1987-02-22</th>\n",
       "      <td>-1.260056</td>\n",
       "      <td>-1.367588</td>\n",
       "      <td>-1.481018</td>\n",
       "      <td>-1.603712</td>\n",
       "      <td>-1.679799</td>\n",
       "      <td>-1.740936</td>\n",
       "      <td>-1.751113</td>\n",
       "      <td>-1.717562</td>\n",
       "      <td>-1.681764</td>\n",
       "      <td>-1.422338</td>\n",
       "      <td>...</td>\n",
       "      <td>1.220573</td>\n",
       "      <td>1.273707</td>\n",
       "      <td>1.275041</td>\n",
       "      <td>1.271531</td>\n",
       "      <td>1.321508</td>\n",
       "      <td>1.103985</td>\n",
       "      <td>0.782790</td>\n",
       "      <td>0.710072</td>\n",
       "      <td>0.526452</td>\n",
       "      <td>0.478230</td>\n",
       "    </tr>\n",
       "    <tr>\n",
       "      <th>...</th>\n",
       "      <td>...</td>\n",
       "      <td>...</td>\n",
       "      <td>...</td>\n",
       "      <td>...</td>\n",
       "      <td>...</td>\n",
       "      <td>...</td>\n",
       "      <td>...</td>\n",
       "      <td>...</td>\n",
       "      <td>...</td>\n",
       "      <td>...</td>\n",
       "      <td>...</td>\n",
       "      <td>...</td>\n",
       "      <td>...</td>\n",
       "      <td>...</td>\n",
       "      <td>...</td>\n",
       "      <td>...</td>\n",
       "      <td>...</td>\n",
       "      <td>...</td>\n",
       "      <td>...</td>\n",
       "      <td>...</td>\n",
       "      <td>...</td>\n",
       "    </tr>\n",
       "    <tr>\n",
       "      <th>2006-12-11</th>\n",
       "      <td>-1.041151</td>\n",
       "      <td>-1.114603</td>\n",
       "      <td>-1.207998</td>\n",
       "      <td>-1.491556</td>\n",
       "      <td>-1.553934</td>\n",
       "      <td>-1.626629</td>\n",
       "      <td>-1.624703</td>\n",
       "      <td>-1.664318</td>\n",
       "      <td>-1.511225</td>\n",
       "      <td>-1.323540</td>\n",
       "      <td>...</td>\n",
       "      <td>-0.347897</td>\n",
       "      <td>-0.262600</td>\n",
       "      <td>-0.278471</td>\n",
       "      <td>-0.271025</td>\n",
       "      <td>-0.301563</td>\n",
       "      <td>-0.449291</td>\n",
       "      <td>-0.787470</td>\n",
       "      <td>-0.864418</td>\n",
       "      <td>-0.977245</td>\n",
       "      <td>-1.024708</td>\n",
       "    </tr>\n",
       "    <tr>\n",
       "      <th>1986-06-11</th>\n",
       "      <td>0.594550</td>\n",
       "      <td>0.479838</td>\n",
       "      <td>0.578058</td>\n",
       "      <td>0.037281</td>\n",
       "      <td>0.049013</td>\n",
       "      <td>0.052298</td>\n",
       "      <td>0.092726</td>\n",
       "      <td>0.322419</td>\n",
       "      <td>0.608160</td>\n",
       "      <td>0.908048</td>\n",
       "      <td>...</td>\n",
       "      <td>1.630983</td>\n",
       "      <td>1.819980</td>\n",
       "      <td>1.831177</td>\n",
       "      <td>1.671009</td>\n",
       "      <td>1.470882</td>\n",
       "      <td>1.320167</td>\n",
       "      <td>1.211221</td>\n",
       "      <td>1.204450</td>\n",
       "      <td>1.112331</td>\n",
       "      <td>1.030068</td>\n",
       "    </tr>\n",
       "    <tr>\n",
       "      <th>1992-07-29</th>\n",
       "      <td>0.912226</td>\n",
       "      <td>0.799497</td>\n",
       "      <td>0.679402</td>\n",
       "      <td>0.623579</td>\n",
       "      <td>0.602223</td>\n",
       "      <td>0.649598</td>\n",
       "      <td>0.627093</td>\n",
       "      <td>0.768274</td>\n",
       "      <td>0.969063</td>\n",
       "      <td>1.039755</td>\n",
       "      <td>...</td>\n",
       "      <td>1.437210</td>\n",
       "      <td>1.436331</td>\n",
       "      <td>1.436737</td>\n",
       "      <td>1.391794</td>\n",
       "      <td>1.193303</td>\n",
       "      <td>0.664128</td>\n",
       "      <td>0.388931</td>\n",
       "      <td>0.401096</td>\n",
       "      <td>0.255995</td>\n",
       "      <td>0.245182</td>\n",
       "    </tr>\n",
       "    <tr>\n",
       "      <th>2021-04-24</th>\n",
       "      <td>-0.149637</td>\n",
       "      <td>-0.277243</td>\n",
       "      <td>-0.380983</td>\n",
       "      <td>-0.462618</td>\n",
       "      <td>-0.562222</td>\n",
       "      <td>-0.645824</td>\n",
       "      <td>-0.717425</td>\n",
       "      <td>-0.609413</td>\n",
       "      <td>-0.270531</td>\n",
       "      <td>0.006312</td>\n",
       "      <td>...</td>\n",
       "      <td>1.681876</td>\n",
       "      <td>1.736526</td>\n",
       "      <td>1.729271</td>\n",
       "      <td>1.759037</td>\n",
       "      <td>1.746629</td>\n",
       "      <td>1.683300</td>\n",
       "      <td>1.499417</td>\n",
       "      <td>1.391677</td>\n",
       "      <td>1.277088</td>\n",
       "      <td>1.138498</td>\n",
       "    </tr>\n",
       "    <tr>\n",
       "      <th>1991-11-16</th>\n",
       "      <td>-1.256365</td>\n",
       "      <td>-1.275372</td>\n",
       "      <td>-1.219826</td>\n",
       "      <td>-1.323414</td>\n",
       "      <td>-1.307423</td>\n",
       "      <td>-1.380713</td>\n",
       "      <td>-1.384570</td>\n",
       "      <td>-1.386534</td>\n",
       "      <td>-1.233081</td>\n",
       "      <td>-1.154040</td>\n",
       "      <td>...</td>\n",
       "      <td>-0.578587</td>\n",
       "      <td>-0.699425</td>\n",
       "      <td>-0.720038</td>\n",
       "      <td>-0.764508</td>\n",
       "      <td>-0.745449</td>\n",
       "      <td>-0.926166</td>\n",
       "      <td>-1.133848</td>\n",
       "      <td>-1.118575</td>\n",
       "      <td>-1.187577</td>\n",
       "      <td>-1.197444</td>\n",
       "    </tr>\n",
       "  </tbody>\n",
       "</table>\n",
       "<p>285 rows × 1536 columns</p>\n",
       "</div>"
      ],
      "text/plain": [
       "                   0         1         2         3         4         5  \\\n",
       "1975-07-31  0.964283  0.758682  0.677235  0.667352  0.664610  0.607691   \n",
       "2017-08-19  0.703717  0.624205  0.521373  0.234700  0.337318  0.317850   \n",
       "2001-07-06  0.839117  0.792497  0.617997  0.504204  0.451051  0.428592   \n",
       "2010-08-16  1.240002  1.121574  0.926427  0.802889  0.745228  0.727412   \n",
       "1987-02-22 -1.260056 -1.367588 -1.481018 -1.603712 -1.679799 -1.740936   \n",
       "...              ...       ...       ...       ...       ...       ...   \n",
       "2006-12-11 -1.041151 -1.114603 -1.207998 -1.491556 -1.553934 -1.626629   \n",
       "1986-06-11  0.594550  0.479838  0.578058  0.037281  0.049013  0.052298   \n",
       "1992-07-29  0.912226  0.799497  0.679402  0.623579  0.602223  0.649598   \n",
       "2021-04-24 -0.149637 -0.277243 -0.380983 -0.462618 -0.562222 -0.645824   \n",
       "1991-11-16 -1.256365 -1.275372 -1.219826 -1.323414 -1.307423 -1.380713   \n",
       "\n",
       "                   6         7         8         9  ...      1526      1527  \\\n",
       "1975-07-31  0.600477  0.801750  1.029786  1.009659  ...  1.320080  1.315175   \n",
       "2017-08-19  0.227569  0.316138  0.638538  0.848409  ...  0.345234  0.439151   \n",
       "2001-07-06  0.352912  0.317114  0.430974  0.341955  ...  1.397530  1.493560   \n",
       "2010-08-16  0.694128  0.678177  0.874774  0.905918  ...  0.542830  0.585644   \n",
       "1987-02-22 -1.751113 -1.717562 -1.681764 -1.422338  ...  1.220573  1.273707   \n",
       "...              ...       ...       ...       ...  ...       ...       ...   \n",
       "2006-12-11 -1.624703 -1.664318 -1.511225 -1.323540  ... -0.347897 -0.262600   \n",
       "1986-06-11  0.092726  0.322419  0.608160  0.908048  ...  1.630983  1.819980   \n",
       "1992-07-29  0.627093  0.768274  0.969063  1.039755  ...  1.437210  1.436331   \n",
       "2021-04-24 -0.717425 -0.609413 -0.270531  0.006312  ...  1.681876  1.736526   \n",
       "1991-11-16 -1.384570 -1.386534 -1.233081 -1.154040  ... -0.578587 -0.699425   \n",
       "\n",
       "                1528      1529      1530      1531      1532      1533  \\\n",
       "1975-07-31  1.319647  1.315680  1.320585  0.886659  0.720375  0.695270   \n",
       "2017-08-19  0.485718  0.474878  0.369622  0.182857  0.012565 -0.023234   \n",
       "2001-07-06  1.484917  1.475048  1.471033  1.442517  0.777592  0.770106   \n",
       "2010-08-16  0.596969  0.592411  0.527708  0.450505  0.173873  0.086105   \n",
       "1987-02-22  1.275041  1.271531  1.321508  1.103985  0.782790  0.710072   \n",
       "...              ...       ...       ...       ...       ...       ...   \n",
       "2006-12-11 -0.278471 -0.271025 -0.301563 -0.449291 -0.787470 -0.864418   \n",
       "1986-06-11  1.831177  1.671009  1.470882  1.320167  1.211221  1.204450   \n",
       "1992-07-29  1.436737  1.391794  1.193303  0.664128  0.388931  0.401096   \n",
       "2021-04-24  1.729271  1.759037  1.746629  1.683300  1.499417  1.391677   \n",
       "1991-11-16 -0.720038 -0.764508 -0.745449 -0.926166 -1.133848 -1.118575   \n",
       "\n",
       "                1534      1535  \n",
       "1975-07-31  0.405120  0.365732  \n",
       "2017-08-19 -0.123142 -0.315327  \n",
       "2001-07-06  0.652979  0.604590  \n",
       "2010-08-16  0.030448 -0.082456  \n",
       "1987-02-22  0.526452  0.478230  \n",
       "...              ...       ...  \n",
       "2006-12-11 -0.977245 -1.024708  \n",
       "1986-06-11  1.112331  1.030068  \n",
       "1992-07-29  0.255995  0.245182  \n",
       "2021-04-24  1.277088  1.138498  \n",
       "1991-11-16 -1.187577 -1.197444  \n",
       "\n",
       "[285 rows x 1536 columns]"
      ]
     },
     "execution_count": 3,
     "metadata": {},
     "output_type": "execute_result"
    }
   ],
   "source": [
    "data = pd.read_csv('data/processed/phoenix_64days.csv', index_col=0, parse_dates=True)\n",
    "data"
   ]
  },
  {
   "cell_type": "markdown",
   "metadata": {},
   "source": [
    "### Create Seasonality Data\n",
    "\n",
    "Calculate sines and cosines of earth's angle around the sun. This will be used as predictive data toward the latent prior in the form of a fourier series."
   ]
  },
  {
   "cell_type": "code",
   "execution_count": 4,
   "metadata": {},
   "outputs": [],
   "source": [
    "fourier = lambda x: np.stack([np.sin(2*np.pi*i*x) for i in range(1, DEGREE+1)] + [np.cos(2*np.pi*i*x) for i in range(1, DEGREE+1)], axis=-1)"
   ]
  },
  {
   "cell_type": "code",
   "execution_count": 5,
   "metadata": {},
   "outputs": [
    {
     "data": {
      "text/plain": [
       "(285, 16, 6)"
      ]
     },
     "execution_count": 5,
     "metadata": {},
     "output_type": "execute_result"
    }
   ],
   "source": [
    "starting_day = np.array(data.index.dayofyear)[:, np.newaxis] - 1\n",
    "data_days = (starting_day + np.arange(0, INPUT_SIZE//24, LATENT_SIZE//24)) % 365\n",
    "seasonal_data = fourier(data_days/365)\n",
    "seasonal_data.shape"
   ]
  },
  {
   "cell_type": "markdown",
   "metadata": {},
   "source": [
    "Separate training and testing data"
   ]
  },
  {
   "cell_type": "code",
   "execution_count": 6,
   "metadata": {},
   "outputs": [],
   "source": [
    "training_ratio = 0.8\n",
    "\n",
    "train = data.values[:int(len(data)*training_ratio)]\n",
    "test = data.values[int(len(data)*training_ratio):]\n",
    "train_seasonal = seasonal_data[:int(len(data)*training_ratio)]\n",
    "test_seasonal = seasonal_data[int(len(data)*training_ratio):]\n",
    "\n",
    "# convert to tensors\n",
    "train_tensor = tf.convert_to_tensor(train, dtype=tf.float32)\n",
    "test_tensor = tf.convert_to_tensor(test, dtype=tf.float32)\n",
    "train_seasonal_tensor = tf.convert_to_tensor(train_seasonal, dtype=tf.float32)\n",
    "test_seasonal_tensor = tf.convert_to_tensor(test_seasonal, dtype=tf.float32)"
   ]
  },
  {
   "cell_type": "markdown",
   "metadata": {},
   "source": [
    "## Define Model"
   ]
  },
  {
   "cell_type": "code",
   "execution_count": 7,
   "metadata": {},
   "outputs": [],
   "source": [
    "# Parameters\n",
    "input_shape = None #INPUT_SIZE\n",
    "latent_dim = None #INPUT_SIZE//LATENT_SIZE\n",
    "latent_filter = 10\n",
    "interim_filters = 2*latent_filter"
   ]
  },
  {
   "cell_type": "markdown",
   "metadata": {},
   "source": [
    "### Encoder"
   ]
  },
  {
   "cell_type": "code",
   "execution_count": 8,
   "metadata": {},
   "outputs": [
    {
     "name": "stdout",
     "output_type": "stream",
     "text": [
      "WARNING:tensorflow:From c:\\Users\\emily\\AppData\\Local\\Programs\\Python\\Python311\\Lib\\site-packages\\keras\\src\\backend\\tensorflow\\core.py:184: The name tf.placeholder is deprecated. Please use tf.compat.v1.placeholder instead.\n",
      "\n"
     ]
    },
    {
     "data": {
      "text/html": [
       "<pre style=\"white-space:pre;overflow-x:auto;line-height:normal;font-family:Menlo,'DejaVu Sans Mono',consolas,'Courier New',monospace\"><span style=\"font-weight: bold\">Model: \"encoder\"</span>\n",
       "</pre>\n"
      ],
      "text/plain": [
       "\u001b[1mModel: \"encoder\"\u001b[0m\n"
      ]
     },
     "metadata": {},
     "output_type": "display_data"
    },
    {
     "data": {
      "text/html": [
       "<pre style=\"white-space:pre;overflow-x:auto;line-height:normal;font-family:Menlo,'DejaVu Sans Mono',consolas,'Courier New',monospace\">┏━━━━━━━━━━━━━━━━━━━━━┳━━━━━━━━━━━━━━━━━━━┳━━━━━━━━━━━━┳━━━━━━━━━━━━━━━━━━━┓\n",
       "┃<span style=\"font-weight: bold\"> Layer (type)        </span>┃<span style=\"font-weight: bold\"> Output Shape      </span>┃<span style=\"font-weight: bold\">    Param # </span>┃<span style=\"font-weight: bold\"> Connected to      </span>┃\n",
       "┡━━━━━━━━━━━━━━━━━━━━━╇━━━━━━━━━━━━━━━━━━━╇━━━━━━━━━━━━╇━━━━━━━━━━━━━━━━━━━┩\n",
       "│ input_layer         │ (<span style=\"color: #00d7ff; text-decoration-color: #00d7ff\">None</span>, <span style=\"color: #00d7ff; text-decoration-color: #00d7ff\">None</span>)      │          <span style=\"color: #00af00; text-decoration-color: #00af00\">0</span> │ -                 │\n",
       "│ (<span style=\"color: #0087ff; text-decoration-color: #0087ff\">InputLayer</span>)        │                   │            │                   │\n",
       "├─────────────────────┼───────────────────┼────────────┼───────────────────┤\n",
       "│ reshape (<span style=\"color: #0087ff; text-decoration-color: #0087ff\">Reshape</span>)   │ (<span style=\"color: #00d7ff; text-decoration-color: #00d7ff\">None</span>, <span style=\"color: #00d7ff; text-decoration-color: #00d7ff\">None</span>, <span style=\"color: #00af00; text-decoration-color: #00af00\">1</span>)   │          <span style=\"color: #00af00; text-decoration-color: #00af00\">0</span> │ input_layer[<span style=\"color: #00af00; text-decoration-color: #00af00\">0</span>][<span style=\"color: #00af00; text-decoration-color: #00af00\">0</span>] │\n",
       "├─────────────────────┼───────────────────┼────────────┼───────────────────┤\n",
       "│ conv1d (<span style=\"color: #0087ff; text-decoration-color: #0087ff\">Conv1D</span>)     │ (<span style=\"color: #00d7ff; text-decoration-color: #00d7ff\">None</span>, <span style=\"color: #00d7ff; text-decoration-color: #00d7ff\">None</span>, <span style=\"color: #00af00; text-decoration-color: #00af00\">20</span>)  │        <span style=\"color: #00af00; text-decoration-color: #00af00\">120</span> │ reshape[<span style=\"color: #00af00; text-decoration-color: #00af00\">0</span>][<span style=\"color: #00af00; text-decoration-color: #00af00\">0</span>]     │\n",
       "├─────────────────────┼───────────────────┼────────────┼───────────────────┤\n",
       "│ conv1d_1 (<span style=\"color: #0087ff; text-decoration-color: #0087ff\">Conv1D</span>)   │ (<span style=\"color: #00d7ff; text-decoration-color: #00d7ff\">None</span>, <span style=\"color: #00d7ff; text-decoration-color: #00d7ff\">None</span>, <span style=\"color: #00af00; text-decoration-color: #00af00\">20</span>)  │      <span style=\"color: #00af00; text-decoration-color: #00af00\">1,220</span> │ conv1d[<span style=\"color: #00af00; text-decoration-color: #00af00\">0</span>][<span style=\"color: #00af00; text-decoration-color: #00af00\">0</span>]      │\n",
       "├─────────────────────┼───────────────────┼────────────┼───────────────────┤\n",
       "│ conv1d_2 (<span style=\"color: #0087ff; text-decoration-color: #0087ff\">Conv1D</span>)   │ (<span style=\"color: #00d7ff; text-decoration-color: #00d7ff\">None</span>, <span style=\"color: #00d7ff; text-decoration-color: #00d7ff\">None</span>, <span style=\"color: #00af00; text-decoration-color: #00af00\">20</span>)  │      <span style=\"color: #00af00; text-decoration-color: #00af00\">1,220</span> │ conv1d_1[<span style=\"color: #00af00; text-decoration-color: #00af00\">0</span>][<span style=\"color: #00af00; text-decoration-color: #00af00\">0</span>]    │\n",
       "├─────────────────────┼───────────────────┼────────────┼───────────────────┤\n",
       "│ conv1d_3 (<span style=\"color: #0087ff; text-decoration-color: #0087ff\">Conv1D</span>)   │ (<span style=\"color: #00d7ff; text-decoration-color: #00d7ff\">None</span>, <span style=\"color: #00d7ff; text-decoration-color: #00d7ff\">None</span>, <span style=\"color: #00af00; text-decoration-color: #00af00\">20</span>)  │      <span style=\"color: #00af00; text-decoration-color: #00af00\">1,220</span> │ conv1d_2[<span style=\"color: #00af00; text-decoration-color: #00af00\">0</span>][<span style=\"color: #00af00; text-decoration-color: #00af00\">0</span>]    │\n",
       "├─────────────────────┼───────────────────┼────────────┼───────────────────┤\n",
       "│ conv1d_4 (<span style=\"color: #0087ff; text-decoration-color: #0087ff\">Conv1D</span>)   │ (<span style=\"color: #00d7ff; text-decoration-color: #00d7ff\">None</span>, <span style=\"color: #00d7ff; text-decoration-color: #00d7ff\">None</span>, <span style=\"color: #00af00; text-decoration-color: #00af00\">20</span>)  │      <span style=\"color: #00af00; text-decoration-color: #00af00\">1,220</span> │ conv1d_3[<span style=\"color: #00af00; text-decoration-color: #00af00\">0</span>][<span style=\"color: #00af00; text-decoration-color: #00af00\">0</span>]    │\n",
       "├─────────────────────┼───────────────────┼────────────┼───────────────────┤\n",
       "│ conv1d_5 (<span style=\"color: #0087ff; text-decoration-color: #0087ff\">Conv1D</span>)   │ (<span style=\"color: #00d7ff; text-decoration-color: #00d7ff\">None</span>, <span style=\"color: #00d7ff; text-decoration-color: #00d7ff\">None</span>, <span style=\"color: #00af00; text-decoration-color: #00af00\">20</span>)  │      <span style=\"color: #00af00; text-decoration-color: #00af00\">1,220</span> │ conv1d_4[<span style=\"color: #00af00; text-decoration-color: #00af00\">0</span>][<span style=\"color: #00af00; text-decoration-color: #00af00\">0</span>]    │\n",
       "├─────────────────────┼───────────────────┼────────────┼───────────────────┤\n",
       "│ get_item (<span style=\"color: #0087ff; text-decoration-color: #0087ff\">GetItem</span>)  │ (<span style=\"color: #00d7ff; text-decoration-color: #00d7ff\">None</span>, <span style=\"color: #00d7ff; text-decoration-color: #00d7ff\">None</span>, <span style=\"color: #00af00; text-decoration-color: #00af00\">10</span>)  │          <span style=\"color: #00af00; text-decoration-color: #00af00\">0</span> │ conv1d_5[<span style=\"color: #00af00; text-decoration-color: #00af00\">0</span>][<span style=\"color: #00af00; text-decoration-color: #00af00\">0</span>]    │\n",
       "├─────────────────────┼───────────────────┼────────────┼───────────────────┤\n",
       "│ get_item_1          │ (<span style=\"color: #00d7ff; text-decoration-color: #00d7ff\">None</span>, <span style=\"color: #00d7ff; text-decoration-color: #00d7ff\">None</span>, <span style=\"color: #00af00; text-decoration-color: #00af00\">10</span>)  │          <span style=\"color: #00af00; text-decoration-color: #00af00\">0</span> │ conv1d_5[<span style=\"color: #00af00; text-decoration-color: #00af00\">0</span>][<span style=\"color: #00af00; text-decoration-color: #00af00\">0</span>]    │\n",
       "│ (<span style=\"color: #0087ff; text-decoration-color: #0087ff\">GetItem</span>)           │                   │            │                   │\n",
       "├─────────────────────┼───────────────────┼────────────┼───────────────────┤\n",
       "│ sampling (<span style=\"color: #0087ff; text-decoration-color: #0087ff\">Sampling</span>) │ (<span style=\"color: #00d7ff; text-decoration-color: #00d7ff\">None</span>, <span style=\"color: #00d7ff; text-decoration-color: #00d7ff\">None</span>, <span style=\"color: #00af00; text-decoration-color: #00af00\">10</span>)  │          <span style=\"color: #00af00; text-decoration-color: #00af00\">0</span> │ get_item[<span style=\"color: #00af00; text-decoration-color: #00af00\">0</span>][<span style=\"color: #00af00; text-decoration-color: #00af00\">0</span>],   │\n",
       "│                     │                   │            │ get_item_1[<span style=\"color: #00af00; text-decoration-color: #00af00\">0</span>][<span style=\"color: #00af00; text-decoration-color: #00af00\">0</span>]  │\n",
       "└─────────────────────┴───────────────────┴────────────┴───────────────────┘\n",
       "</pre>\n"
      ],
      "text/plain": [
       "┏━━━━━━━━━━━━━━━━━━━━━┳━━━━━━━━━━━━━━━━━━━┳━━━━━━━━━━━━┳━━━━━━━━━━━━━━━━━━━┓\n",
       "┃\u001b[1m \u001b[0m\u001b[1mLayer (type)       \u001b[0m\u001b[1m \u001b[0m┃\u001b[1m \u001b[0m\u001b[1mOutput Shape     \u001b[0m\u001b[1m \u001b[0m┃\u001b[1m \u001b[0m\u001b[1m   Param #\u001b[0m\u001b[1m \u001b[0m┃\u001b[1m \u001b[0m\u001b[1mConnected to     \u001b[0m\u001b[1m \u001b[0m┃\n",
       "┡━━━━━━━━━━━━━━━━━━━━━╇━━━━━━━━━━━━━━━━━━━╇━━━━━━━━━━━━╇━━━━━━━━━━━━━━━━━━━┩\n",
       "│ input_layer         │ (\u001b[38;5;45mNone\u001b[0m, \u001b[38;5;45mNone\u001b[0m)      │          \u001b[38;5;34m0\u001b[0m │ -                 │\n",
       "│ (\u001b[38;5;33mInputLayer\u001b[0m)        │                   │            │                   │\n",
       "├─────────────────────┼───────────────────┼────────────┼───────────────────┤\n",
       "│ reshape (\u001b[38;5;33mReshape\u001b[0m)   │ (\u001b[38;5;45mNone\u001b[0m, \u001b[38;5;45mNone\u001b[0m, \u001b[38;5;34m1\u001b[0m)   │          \u001b[38;5;34m0\u001b[0m │ input_layer[\u001b[38;5;34m0\u001b[0m][\u001b[38;5;34m0\u001b[0m] │\n",
       "├─────────────────────┼───────────────────┼────────────┼───────────────────┤\n",
       "│ conv1d (\u001b[38;5;33mConv1D\u001b[0m)     │ (\u001b[38;5;45mNone\u001b[0m, \u001b[38;5;45mNone\u001b[0m, \u001b[38;5;34m20\u001b[0m)  │        \u001b[38;5;34m120\u001b[0m │ reshape[\u001b[38;5;34m0\u001b[0m][\u001b[38;5;34m0\u001b[0m]     │\n",
       "├─────────────────────┼───────────────────┼────────────┼───────────────────┤\n",
       "│ conv1d_1 (\u001b[38;5;33mConv1D\u001b[0m)   │ (\u001b[38;5;45mNone\u001b[0m, \u001b[38;5;45mNone\u001b[0m, \u001b[38;5;34m20\u001b[0m)  │      \u001b[38;5;34m1,220\u001b[0m │ conv1d[\u001b[38;5;34m0\u001b[0m][\u001b[38;5;34m0\u001b[0m]      │\n",
       "├─────────────────────┼───────────────────┼────────────┼───────────────────┤\n",
       "│ conv1d_2 (\u001b[38;5;33mConv1D\u001b[0m)   │ (\u001b[38;5;45mNone\u001b[0m, \u001b[38;5;45mNone\u001b[0m, \u001b[38;5;34m20\u001b[0m)  │      \u001b[38;5;34m1,220\u001b[0m │ conv1d_1[\u001b[38;5;34m0\u001b[0m][\u001b[38;5;34m0\u001b[0m]    │\n",
       "├─────────────────────┼───────────────────┼────────────┼───────────────────┤\n",
       "│ conv1d_3 (\u001b[38;5;33mConv1D\u001b[0m)   │ (\u001b[38;5;45mNone\u001b[0m, \u001b[38;5;45mNone\u001b[0m, \u001b[38;5;34m20\u001b[0m)  │      \u001b[38;5;34m1,220\u001b[0m │ conv1d_2[\u001b[38;5;34m0\u001b[0m][\u001b[38;5;34m0\u001b[0m]    │\n",
       "├─────────────────────┼───────────────────┼────────────┼───────────────────┤\n",
       "│ conv1d_4 (\u001b[38;5;33mConv1D\u001b[0m)   │ (\u001b[38;5;45mNone\u001b[0m, \u001b[38;5;45mNone\u001b[0m, \u001b[38;5;34m20\u001b[0m)  │      \u001b[38;5;34m1,220\u001b[0m │ conv1d_3[\u001b[38;5;34m0\u001b[0m][\u001b[38;5;34m0\u001b[0m]    │\n",
       "├─────────────────────┼───────────────────┼────────────┼───────────────────┤\n",
       "│ conv1d_5 (\u001b[38;5;33mConv1D\u001b[0m)   │ (\u001b[38;5;45mNone\u001b[0m, \u001b[38;5;45mNone\u001b[0m, \u001b[38;5;34m20\u001b[0m)  │      \u001b[38;5;34m1,220\u001b[0m │ conv1d_4[\u001b[38;5;34m0\u001b[0m][\u001b[38;5;34m0\u001b[0m]    │\n",
       "├─────────────────────┼───────────────────┼────────────┼───────────────────┤\n",
       "│ get_item (\u001b[38;5;33mGetItem\u001b[0m)  │ (\u001b[38;5;45mNone\u001b[0m, \u001b[38;5;45mNone\u001b[0m, \u001b[38;5;34m10\u001b[0m)  │          \u001b[38;5;34m0\u001b[0m │ conv1d_5[\u001b[38;5;34m0\u001b[0m][\u001b[38;5;34m0\u001b[0m]    │\n",
       "├─────────────────────┼───────────────────┼────────────┼───────────────────┤\n",
       "│ get_item_1          │ (\u001b[38;5;45mNone\u001b[0m, \u001b[38;5;45mNone\u001b[0m, \u001b[38;5;34m10\u001b[0m)  │          \u001b[38;5;34m0\u001b[0m │ conv1d_5[\u001b[38;5;34m0\u001b[0m][\u001b[38;5;34m0\u001b[0m]    │\n",
       "│ (\u001b[38;5;33mGetItem\u001b[0m)           │                   │            │                   │\n",
       "├─────────────────────┼───────────────────┼────────────┼───────────────────┤\n",
       "│ sampling (\u001b[38;5;33mSampling\u001b[0m) │ (\u001b[38;5;45mNone\u001b[0m, \u001b[38;5;45mNone\u001b[0m, \u001b[38;5;34m10\u001b[0m)  │          \u001b[38;5;34m0\u001b[0m │ get_item[\u001b[38;5;34m0\u001b[0m][\u001b[38;5;34m0\u001b[0m],   │\n",
       "│                     │                   │            │ get_item_1[\u001b[38;5;34m0\u001b[0m][\u001b[38;5;34m0\u001b[0m]  │\n",
       "└─────────────────────┴───────────────────┴────────────┴───────────────────┘\n"
      ]
     },
     "metadata": {},
     "output_type": "display_data"
    },
    {
     "data": {
      "text/html": [
       "<pre style=\"white-space:pre;overflow-x:auto;line-height:normal;font-family:Menlo,'DejaVu Sans Mono',consolas,'Courier New',monospace\"><span style=\"font-weight: bold\"> Total params: </span><span style=\"color: #00af00; text-decoration-color: #00af00\">6,220</span> (24.30 KB)\n",
       "</pre>\n"
      ],
      "text/plain": [
       "\u001b[1m Total params: \u001b[0m\u001b[38;5;34m6,220\u001b[0m (24.30 KB)\n"
      ]
     },
     "metadata": {},
     "output_type": "display_data"
    },
    {
     "data": {
      "text/html": [
       "<pre style=\"white-space:pre;overflow-x:auto;line-height:normal;font-family:Menlo,'DejaVu Sans Mono',consolas,'Courier New',monospace\"><span style=\"font-weight: bold\"> Trainable params: </span><span style=\"color: #00af00; text-decoration-color: #00af00\">6,220</span> (24.30 KB)\n",
       "</pre>\n"
      ],
      "text/plain": [
       "\u001b[1m Trainable params: \u001b[0m\u001b[38;5;34m6,220\u001b[0m (24.30 KB)\n"
      ]
     },
     "metadata": {},
     "output_type": "display_data"
    },
    {
     "data": {
      "text/html": [
       "<pre style=\"white-space:pre;overflow-x:auto;line-height:normal;font-family:Menlo,'DejaVu Sans Mono',consolas,'Courier New',monospace\"><span style=\"font-weight: bold\"> Non-trainable params: </span><span style=\"color: #00af00; text-decoration-color: #00af00\">0</span> (0.00 B)\n",
       "</pre>\n"
      ],
      "text/plain": [
       "\u001b[1m Non-trainable params: \u001b[0m\u001b[38;5;34m0\u001b[0m (0.00 B)\n"
      ]
     },
     "metadata": {},
     "output_type": "display_data"
    }
   ],
   "source": [
    "# Build the encoder\n",
    "def build_encoder():\n",
    "    inputs = layers.Input(shape=(input_shape,))\n",
    "    x = layers.Reshape((-1, 1))(inputs)\n",
    "    x = layers.Conv1D(interim_filters, 5, strides=3, padding='same', activation='relu')(x)\n",
    "    x = layers.Conv1D(interim_filters, 3, strides=2, padding='same', activation='relu')(x)\n",
    "    x = layers.Conv1D(interim_filters, 3, strides=2, padding='same', activation='relu')(x)\n",
    "    x = layers.Conv1D(interim_filters, 3, strides=2, padding='same', activation='relu')(x)\n",
    "    x = layers.Conv1D(interim_filters, 3, strides=2, padding='same', activation='relu')(x)\n",
    "    x = layers.Conv1D(2*latent_filter, 3, strides=2, padding='same')(x)\n",
    "    z_mean = x[: ,:, :latent_filter]\n",
    "    z_log_var = x[:, :, latent_filter:]\n",
    "    z = Sampling()([z_mean, z_log_var])\n",
    "    encoder = models.Model(inputs, [z_mean, z_log_var, z], name='encoder')\n",
    "    encoder.summary()\n",
    "    return encoder\n",
    "\n",
    "encoder = build_encoder()\n"
   ]
  },
  {
   "cell_type": "markdown",
   "metadata": {},
   "source": [
    "### Decoder"
   ]
  },
  {
   "cell_type": "code",
   "execution_count": 9,
   "metadata": {},
   "outputs": [
    {
     "data": {
      "text/html": [
       "<pre style=\"white-space:pre;overflow-x:auto;line-height:normal;font-family:Menlo,'DejaVu Sans Mono',consolas,'Courier New',monospace\"><span style=\"font-weight: bold\">Model: \"decoder\"</span>\n",
       "</pre>\n"
      ],
      "text/plain": [
       "\u001b[1mModel: \"decoder\"\u001b[0m\n"
      ]
     },
     "metadata": {},
     "output_type": "display_data"
    },
    {
     "data": {
      "text/html": [
       "<pre style=\"white-space:pre;overflow-x:auto;line-height:normal;font-family:Menlo,'DejaVu Sans Mono',consolas,'Courier New',monospace\">┏━━━━━━━━━━━━━━━━━━━━━━━━━━━━━━━━━┳━━━━━━━━━━━━━━━━━━━━━━━━┳━━━━━━━━━━━━━━━┓\n",
       "┃<span style=\"font-weight: bold\"> Layer (type)                    </span>┃<span style=\"font-weight: bold\"> Output Shape           </span>┃<span style=\"font-weight: bold\">       Param # </span>┃\n",
       "┡━━━━━━━━━━━━━━━━━━━━━━━━━━━━━━━━━╇━━━━━━━━━━━━━━━━━━━━━━━━╇━━━━━━━━━━━━━━━┩\n",
       "│ input_layer_1 (<span style=\"color: #0087ff; text-decoration-color: #0087ff\">InputLayer</span>)      │ (<span style=\"color: #00d7ff; text-decoration-color: #00d7ff\">None</span>, <span style=\"color: #00d7ff; text-decoration-color: #00d7ff\">None</span>, <span style=\"color: #00af00; text-decoration-color: #00af00\">10</span>)       │             <span style=\"color: #00af00; text-decoration-color: #00af00\">0</span> │\n",
       "├─────────────────────────────────┼────────────────────────┼───────────────┤\n",
       "│ conv1d_transpose                │ (<span style=\"color: #00d7ff; text-decoration-color: #00d7ff\">None</span>, <span style=\"color: #00d7ff; text-decoration-color: #00d7ff\">None</span>, <span style=\"color: #00af00; text-decoration-color: #00af00\">20</span>)       │           <span style=\"color: #00af00; text-decoration-color: #00af00\">620</span> │\n",
       "│ (<span style=\"color: #0087ff; text-decoration-color: #0087ff\">Conv1DTranspose</span>)               │                        │               │\n",
       "├─────────────────────────────────┼────────────────────────┼───────────────┤\n",
       "│ conv1d_transpose_1              │ (<span style=\"color: #00d7ff; text-decoration-color: #00d7ff\">None</span>, <span style=\"color: #00d7ff; text-decoration-color: #00d7ff\">None</span>, <span style=\"color: #00af00; text-decoration-color: #00af00\">20</span>)       │         <span style=\"color: #00af00; text-decoration-color: #00af00\">1,220</span> │\n",
       "│ (<span style=\"color: #0087ff; text-decoration-color: #0087ff\">Conv1DTranspose</span>)               │                        │               │\n",
       "├─────────────────────────────────┼────────────────────────┼───────────────┤\n",
       "│ conv1d_transpose_2              │ (<span style=\"color: #00d7ff; text-decoration-color: #00d7ff\">None</span>, <span style=\"color: #00d7ff; text-decoration-color: #00d7ff\">None</span>, <span style=\"color: #00af00; text-decoration-color: #00af00\">20</span>)       │         <span style=\"color: #00af00; text-decoration-color: #00af00\">1,220</span> │\n",
       "│ (<span style=\"color: #0087ff; text-decoration-color: #0087ff\">Conv1DTranspose</span>)               │                        │               │\n",
       "├─────────────────────────────────┼────────────────────────┼───────────────┤\n",
       "│ conv1d_transpose_3              │ (<span style=\"color: #00d7ff; text-decoration-color: #00d7ff\">None</span>, <span style=\"color: #00d7ff; text-decoration-color: #00d7ff\">None</span>, <span style=\"color: #00af00; text-decoration-color: #00af00\">20</span>)       │         <span style=\"color: #00af00; text-decoration-color: #00af00\">1,220</span> │\n",
       "│ (<span style=\"color: #0087ff; text-decoration-color: #0087ff\">Conv1DTranspose</span>)               │                        │               │\n",
       "├─────────────────────────────────┼────────────────────────┼───────────────┤\n",
       "│ conv1d_transpose_4              │ (<span style=\"color: #00d7ff; text-decoration-color: #00d7ff\">None</span>, <span style=\"color: #00d7ff; text-decoration-color: #00d7ff\">None</span>, <span style=\"color: #00af00; text-decoration-color: #00af00\">20</span>)       │         <span style=\"color: #00af00; text-decoration-color: #00af00\">1,220</span> │\n",
       "│ (<span style=\"color: #0087ff; text-decoration-color: #0087ff\">Conv1DTranspose</span>)               │                        │               │\n",
       "├─────────────────────────────────┼────────────────────────┼───────────────┤\n",
       "│ conv1d_transpose_5              │ (<span style=\"color: #00d7ff; text-decoration-color: #00d7ff\">None</span>, <span style=\"color: #00d7ff; text-decoration-color: #00d7ff\">None</span>, <span style=\"color: #00af00; text-decoration-color: #00af00\">1</span>)        │           <span style=\"color: #00af00; text-decoration-color: #00af00\">101</span> │\n",
       "│ (<span style=\"color: #0087ff; text-decoration-color: #0087ff\">Conv1DTranspose</span>)               │                        │               │\n",
       "├─────────────────────────────────┼────────────────────────┼───────────────┤\n",
       "│ reshape_1 (<span style=\"color: #0087ff; text-decoration-color: #0087ff\">Reshape</span>)             │ (<span style=\"color: #00d7ff; text-decoration-color: #00d7ff\">None</span>, <span style=\"color: #00d7ff; text-decoration-color: #00d7ff\">None</span>)           │             <span style=\"color: #00af00; text-decoration-color: #00af00\">0</span> │\n",
       "└─────────────────────────────────┴────────────────────────┴───────────────┘\n",
       "</pre>\n"
      ],
      "text/plain": [
       "┏━━━━━━━━━━━━━━━━━━━━━━━━━━━━━━━━━┳━━━━━━━━━━━━━━━━━━━━━━━━┳━━━━━━━━━━━━━━━┓\n",
       "┃\u001b[1m \u001b[0m\u001b[1mLayer (type)                   \u001b[0m\u001b[1m \u001b[0m┃\u001b[1m \u001b[0m\u001b[1mOutput Shape          \u001b[0m\u001b[1m \u001b[0m┃\u001b[1m \u001b[0m\u001b[1m      Param #\u001b[0m\u001b[1m \u001b[0m┃\n",
       "┡━━━━━━━━━━━━━━━━━━━━━━━━━━━━━━━━━╇━━━━━━━━━━━━━━━━━━━━━━━━╇━━━━━━━━━━━━━━━┩\n",
       "│ input_layer_1 (\u001b[38;5;33mInputLayer\u001b[0m)      │ (\u001b[38;5;45mNone\u001b[0m, \u001b[38;5;45mNone\u001b[0m, \u001b[38;5;34m10\u001b[0m)       │             \u001b[38;5;34m0\u001b[0m │\n",
       "├─────────────────────────────────┼────────────────────────┼───────────────┤\n",
       "│ conv1d_transpose                │ (\u001b[38;5;45mNone\u001b[0m, \u001b[38;5;45mNone\u001b[0m, \u001b[38;5;34m20\u001b[0m)       │           \u001b[38;5;34m620\u001b[0m │\n",
       "│ (\u001b[38;5;33mConv1DTranspose\u001b[0m)               │                        │               │\n",
       "├─────────────────────────────────┼────────────────────────┼───────────────┤\n",
       "│ conv1d_transpose_1              │ (\u001b[38;5;45mNone\u001b[0m, \u001b[38;5;45mNone\u001b[0m, \u001b[38;5;34m20\u001b[0m)       │         \u001b[38;5;34m1,220\u001b[0m │\n",
       "│ (\u001b[38;5;33mConv1DTranspose\u001b[0m)               │                        │               │\n",
       "├─────────────────────────────────┼────────────────────────┼───────────────┤\n",
       "│ conv1d_transpose_2              │ (\u001b[38;5;45mNone\u001b[0m, \u001b[38;5;45mNone\u001b[0m, \u001b[38;5;34m20\u001b[0m)       │         \u001b[38;5;34m1,220\u001b[0m │\n",
       "│ (\u001b[38;5;33mConv1DTranspose\u001b[0m)               │                        │               │\n",
       "├─────────────────────────────────┼────────────────────────┼───────────────┤\n",
       "│ conv1d_transpose_3              │ (\u001b[38;5;45mNone\u001b[0m, \u001b[38;5;45mNone\u001b[0m, \u001b[38;5;34m20\u001b[0m)       │         \u001b[38;5;34m1,220\u001b[0m │\n",
       "│ (\u001b[38;5;33mConv1DTranspose\u001b[0m)               │                        │               │\n",
       "├─────────────────────────────────┼────────────────────────┼───────────────┤\n",
       "│ conv1d_transpose_4              │ (\u001b[38;5;45mNone\u001b[0m, \u001b[38;5;45mNone\u001b[0m, \u001b[38;5;34m20\u001b[0m)       │         \u001b[38;5;34m1,220\u001b[0m │\n",
       "│ (\u001b[38;5;33mConv1DTranspose\u001b[0m)               │                        │               │\n",
       "├─────────────────────────────────┼────────────────────────┼───────────────┤\n",
       "│ conv1d_transpose_5              │ (\u001b[38;5;45mNone\u001b[0m, \u001b[38;5;45mNone\u001b[0m, \u001b[38;5;34m1\u001b[0m)        │           \u001b[38;5;34m101\u001b[0m │\n",
       "│ (\u001b[38;5;33mConv1DTranspose\u001b[0m)               │                        │               │\n",
       "├─────────────────────────────────┼────────────────────────┼───────────────┤\n",
       "│ reshape_1 (\u001b[38;5;33mReshape\u001b[0m)             │ (\u001b[38;5;45mNone\u001b[0m, \u001b[38;5;45mNone\u001b[0m)           │             \u001b[38;5;34m0\u001b[0m │\n",
       "└─────────────────────────────────┴────────────────────────┴───────────────┘\n"
      ]
     },
     "metadata": {},
     "output_type": "display_data"
    },
    {
     "data": {
      "text/html": [
       "<pre style=\"white-space:pre;overflow-x:auto;line-height:normal;font-family:Menlo,'DejaVu Sans Mono',consolas,'Courier New',monospace\"><span style=\"font-weight: bold\"> Total params: </span><span style=\"color: #00af00; text-decoration-color: #00af00\">5,601</span> (21.88 KB)\n",
       "</pre>\n"
      ],
      "text/plain": [
       "\u001b[1m Total params: \u001b[0m\u001b[38;5;34m5,601\u001b[0m (21.88 KB)\n"
      ]
     },
     "metadata": {},
     "output_type": "display_data"
    },
    {
     "data": {
      "text/html": [
       "<pre style=\"white-space:pre;overflow-x:auto;line-height:normal;font-family:Menlo,'DejaVu Sans Mono',consolas,'Courier New',monospace\"><span style=\"font-weight: bold\"> Trainable params: </span><span style=\"color: #00af00; text-decoration-color: #00af00\">5,601</span> (21.88 KB)\n",
       "</pre>\n"
      ],
      "text/plain": [
       "\u001b[1m Trainable params: \u001b[0m\u001b[38;5;34m5,601\u001b[0m (21.88 KB)\n"
      ]
     },
     "metadata": {},
     "output_type": "display_data"
    },
    {
     "data": {
      "text/html": [
       "<pre style=\"white-space:pre;overflow-x:auto;line-height:normal;font-family:Menlo,'DejaVu Sans Mono',consolas,'Courier New',monospace\"><span style=\"font-weight: bold\"> Non-trainable params: </span><span style=\"color: #00af00; text-decoration-color: #00af00\">0</span> (0.00 B)\n",
       "</pre>\n"
      ],
      "text/plain": [
       "\u001b[1m Non-trainable params: \u001b[0m\u001b[38;5;34m0\u001b[0m (0.00 B)\n"
      ]
     },
     "metadata": {},
     "output_type": "display_data"
    }
   ],
   "source": [
    "# Build the decoder\n",
    "def build_decoder():\n",
    "    latent_inputs = layers.Input(shape=(latent_dim, latent_filter))\n",
    "    x = layers.Conv1DTranspose(interim_filters, 3, strides=2, padding='same', activation='relu')(latent_inputs)\n",
    "    x = layers.Conv1DTranspose(interim_filters, 3, strides=2, padding='same', activation='relu')(x)\n",
    "    x = layers.Conv1DTranspose(interim_filters, 3, strides=2, padding='same', activation='relu')(x)\n",
    "    x = layers.Conv1DTranspose(interim_filters, 3, strides=2, padding='same', activation='relu')(x)\n",
    "    x = layers.Conv1DTranspose(interim_filters, 3, strides=2, padding='same', activation='relu')(x)\n",
    "    x = layers.Conv1DTranspose(1, 5, strides=3, padding='same')(x)\n",
    "    outputs = layers.Reshape((-1,))(x)\n",
    "    decoder = models.Model(latent_inputs, outputs, name='decoder')\n",
    "    decoder.summary()\n",
    "    return decoder\n",
    "\n",
    "decoder = build_decoder()"
   ]
  },
  {
   "cell_type": "markdown",
   "metadata": {},
   "source": [
    "### Prior"
   ]
  },
  {
   "cell_type": "code",
   "execution_count": 10,
   "metadata": {},
   "outputs": [
    {
     "data": {
      "text/html": [
       "<pre style=\"white-space:pre;overflow-x:auto;line-height:normal;font-family:Menlo,'DejaVu Sans Mono',consolas,'Courier New',monospace\"><span style=\"font-weight: bold\">Model: \"seasonal_prior\"</span>\n",
       "</pre>\n"
      ],
      "text/plain": [
       "\u001b[1mModel: \"seasonal_prior\"\u001b[0m\n"
      ]
     },
     "metadata": {},
     "output_type": "display_data"
    },
    {
     "data": {
      "text/html": [
       "<pre style=\"white-space:pre;overflow-x:auto;line-height:normal;font-family:Menlo,'DejaVu Sans Mono',consolas,'Courier New',monospace\">┏━━━━━━━━━━━━━━━━━━━━━┳━━━━━━━━━━━━━━━━━━━┳━━━━━━━━━━━━┳━━━━━━━━━━━━━━━━━━━┓\n",
       "┃<span style=\"font-weight: bold\"> Layer (type)        </span>┃<span style=\"font-weight: bold\"> Output Shape      </span>┃<span style=\"font-weight: bold\">    Param # </span>┃<span style=\"font-weight: bold\"> Connected to      </span>┃\n",
       "┡━━━━━━━━━━━━━━━━━━━━━╇━━━━━━━━━━━━━━━━━━━╇━━━━━━━━━━━━╇━━━━━━━━━━━━━━━━━━━┩\n",
       "│ input_layer_2       │ (<span style=\"color: #00d7ff; text-decoration-color: #00d7ff\">None</span>, <span style=\"color: #00d7ff; text-decoration-color: #00d7ff\">None</span>, <span style=\"color: #00af00; text-decoration-color: #00af00\">6</span>)   │          <span style=\"color: #00af00; text-decoration-color: #00af00\">0</span> │ -                 │\n",
       "│ (<span style=\"color: #0087ff; text-decoration-color: #0087ff\">InputLayer</span>)        │                   │            │                   │\n",
       "├─────────────────────┼───────────────────┼────────────┼───────────────────┤\n",
       "│ dense (<span style=\"color: #0087ff; text-decoration-color: #0087ff\">Dense</span>)       │ (<span style=\"color: #00d7ff; text-decoration-color: #00d7ff\">None</span>, <span style=\"color: #00d7ff; text-decoration-color: #00d7ff\">None</span>, <span style=\"color: #00af00; text-decoration-color: #00af00\">20</span>)  │        <span style=\"color: #00af00; text-decoration-color: #00af00\">120</span> │ input_layer_2[<span style=\"color: #00af00; text-decoration-color: #00af00\">0</span>]… │\n",
       "├─────────────────────┼───────────────────┼────────────┼───────────────────┤\n",
       "│ get_item_2          │ (<span style=\"color: #00d7ff; text-decoration-color: #00d7ff\">None</span>, <span style=\"color: #00d7ff; text-decoration-color: #00d7ff\">None</span>, <span style=\"color: #00af00; text-decoration-color: #00af00\">10</span>)  │          <span style=\"color: #00af00; text-decoration-color: #00af00\">0</span> │ dense[<span style=\"color: #00af00; text-decoration-color: #00af00\">0</span>][<span style=\"color: #00af00; text-decoration-color: #00af00\">0</span>]       │\n",
       "│ (<span style=\"color: #0087ff; text-decoration-color: #0087ff\">GetItem</span>)           │                   │            │                   │\n",
       "├─────────────────────┼───────────────────┼────────────┼───────────────────┤\n",
       "│ get_item_3          │ (<span style=\"color: #00d7ff; text-decoration-color: #00d7ff\">None</span>, <span style=\"color: #00d7ff; text-decoration-color: #00d7ff\">None</span>, <span style=\"color: #00af00; text-decoration-color: #00af00\">10</span>)  │          <span style=\"color: #00af00; text-decoration-color: #00af00\">0</span> │ dense[<span style=\"color: #00af00; text-decoration-color: #00af00\">0</span>][<span style=\"color: #00af00; text-decoration-color: #00af00\">0</span>]       │\n",
       "│ (<span style=\"color: #0087ff; text-decoration-color: #0087ff\">GetItem</span>)           │                   │            │                   │\n",
       "├─────────────────────┼───────────────────┼────────────┼───────────────────┤\n",
       "│ sampling_1          │ (<span style=\"color: #00d7ff; text-decoration-color: #00d7ff\">None</span>, <span style=\"color: #00d7ff; text-decoration-color: #00d7ff\">None</span>, <span style=\"color: #00af00; text-decoration-color: #00af00\">10</span>)  │          <span style=\"color: #00af00; text-decoration-color: #00af00\">0</span> │ get_item_2[<span style=\"color: #00af00; text-decoration-color: #00af00\">0</span>][<span style=\"color: #00af00; text-decoration-color: #00af00\">0</span>], │\n",
       "│ (<span style=\"color: #0087ff; text-decoration-color: #0087ff\">Sampling</span>)          │                   │            │ get_item_3[<span style=\"color: #00af00; text-decoration-color: #00af00\">0</span>][<span style=\"color: #00af00; text-decoration-color: #00af00\">0</span>]  │\n",
       "└─────────────────────┴───────────────────┴────────────┴───────────────────┘\n",
       "</pre>\n"
      ],
      "text/plain": [
       "┏━━━━━━━━━━━━━━━━━━━━━┳━━━━━━━━━━━━━━━━━━━┳━━━━━━━━━━━━┳━━━━━━━━━━━━━━━━━━━┓\n",
       "┃\u001b[1m \u001b[0m\u001b[1mLayer (type)       \u001b[0m\u001b[1m \u001b[0m┃\u001b[1m \u001b[0m\u001b[1mOutput Shape     \u001b[0m\u001b[1m \u001b[0m┃\u001b[1m \u001b[0m\u001b[1m   Param #\u001b[0m\u001b[1m \u001b[0m┃\u001b[1m \u001b[0m\u001b[1mConnected to     \u001b[0m\u001b[1m \u001b[0m┃\n",
       "┡━━━━━━━━━━━━━━━━━━━━━╇━━━━━━━━━━━━━━━━━━━╇━━━━━━━━━━━━╇━━━━━━━━━━━━━━━━━━━┩\n",
       "│ input_layer_2       │ (\u001b[38;5;45mNone\u001b[0m, \u001b[38;5;45mNone\u001b[0m, \u001b[38;5;34m6\u001b[0m)   │          \u001b[38;5;34m0\u001b[0m │ -                 │\n",
       "│ (\u001b[38;5;33mInputLayer\u001b[0m)        │                   │            │                   │\n",
       "├─────────────────────┼───────────────────┼────────────┼───────────────────┤\n",
       "│ dense (\u001b[38;5;33mDense\u001b[0m)       │ (\u001b[38;5;45mNone\u001b[0m, \u001b[38;5;45mNone\u001b[0m, \u001b[38;5;34m20\u001b[0m)  │        \u001b[38;5;34m120\u001b[0m │ input_layer_2[\u001b[38;5;34m0\u001b[0m]… │\n",
       "├─────────────────────┼───────────────────┼────────────┼───────────────────┤\n",
       "│ get_item_2          │ (\u001b[38;5;45mNone\u001b[0m, \u001b[38;5;45mNone\u001b[0m, \u001b[38;5;34m10\u001b[0m)  │          \u001b[38;5;34m0\u001b[0m │ dense[\u001b[38;5;34m0\u001b[0m][\u001b[38;5;34m0\u001b[0m]       │\n",
       "│ (\u001b[38;5;33mGetItem\u001b[0m)           │                   │            │                   │\n",
       "├─────────────────────┼───────────────────┼────────────┼───────────────────┤\n",
       "│ get_item_3          │ (\u001b[38;5;45mNone\u001b[0m, \u001b[38;5;45mNone\u001b[0m, \u001b[38;5;34m10\u001b[0m)  │          \u001b[38;5;34m0\u001b[0m │ dense[\u001b[38;5;34m0\u001b[0m][\u001b[38;5;34m0\u001b[0m]       │\n",
       "│ (\u001b[38;5;33mGetItem\u001b[0m)           │                   │            │                   │\n",
       "├─────────────────────┼───────────────────┼────────────┼───────────────────┤\n",
       "│ sampling_1          │ (\u001b[38;5;45mNone\u001b[0m, \u001b[38;5;45mNone\u001b[0m, \u001b[38;5;34m10\u001b[0m)  │          \u001b[38;5;34m0\u001b[0m │ get_item_2[\u001b[38;5;34m0\u001b[0m][\u001b[38;5;34m0\u001b[0m], │\n",
       "│ (\u001b[38;5;33mSampling\u001b[0m)          │                   │            │ get_item_3[\u001b[38;5;34m0\u001b[0m][\u001b[38;5;34m0\u001b[0m]  │\n",
       "└─────────────────────┴───────────────────┴────────────┴───────────────────┘\n"
      ]
     },
     "metadata": {},
     "output_type": "display_data"
    },
    {
     "data": {
      "text/html": [
       "<pre style=\"white-space:pre;overflow-x:auto;line-height:normal;font-family:Menlo,'DejaVu Sans Mono',consolas,'Courier New',monospace\"><span style=\"font-weight: bold\"> Total params: </span><span style=\"color: #00af00; text-decoration-color: #00af00\">120</span> (480.00 B)\n",
       "</pre>\n"
      ],
      "text/plain": [
       "\u001b[1m Total params: \u001b[0m\u001b[38;5;34m120\u001b[0m (480.00 B)\n"
      ]
     },
     "metadata": {},
     "output_type": "display_data"
    },
    {
     "data": {
      "text/html": [
       "<pre style=\"white-space:pre;overflow-x:auto;line-height:normal;font-family:Menlo,'DejaVu Sans Mono',consolas,'Courier New',monospace\"><span style=\"font-weight: bold\"> Trainable params: </span><span style=\"color: #00af00; text-decoration-color: #00af00\">120</span> (480.00 B)\n",
       "</pre>\n"
      ],
      "text/plain": [
       "\u001b[1m Trainable params: \u001b[0m\u001b[38;5;34m120\u001b[0m (480.00 B)\n"
      ]
     },
     "metadata": {},
     "output_type": "display_data"
    },
    {
     "data": {
      "text/html": [
       "<pre style=\"white-space:pre;overflow-x:auto;line-height:normal;font-family:Menlo,'DejaVu Sans Mono',consolas,'Courier New',monospace\"><span style=\"font-weight: bold\"> Non-trainable params: </span><span style=\"color: #00af00; text-decoration-color: #00af00\">0</span> (0.00 B)\n",
       "</pre>\n"
      ],
      "text/plain": [
       "\u001b[1m Non-trainable params: \u001b[0m\u001b[38;5;34m0\u001b[0m (0.00 B)\n"
      ]
     },
     "metadata": {},
     "output_type": "display_data"
    }
   ],
   "source": [
    "def build_seasonal_prior():\n",
    "    seasonal_inputs = layers.Input(shape=(latent_dim, 2*DEGREE,))\n",
    "    x = layers.Dense(2*latent_filter, use_bias=False)(seasonal_inputs)\n",
    "    z_mean = x[:, :, :latent_filter]\n",
    "    z_log_var = x[:, :, latent_filter:]\n",
    "    z = Sampling()([z_mean, z_log_var])\n",
    "    seasonal_prior = models.Model(seasonal_inputs, [z_mean, z_log_var, z], name='seasonal_prior')\n",
    "    seasonal_prior.summary()\n",
    "    return seasonal_prior\n",
    "\n",
    "seasonal_prior = build_seasonal_prior()"
   ]
  },
  {
   "cell_type": "markdown",
   "metadata": {},
   "source": [
    "### Overall Model"
   ]
  },
  {
   "cell_type": "code",
   "execution_count": 11,
   "metadata": {},
   "outputs": [],
   "source": [
    "class VAE(models.Model):\n",
    "    def __init__(self, encoder, decoder, prior, **kwargs):\n",
    "        super(VAE, self).__init__(**kwargs)\n",
    "        self.encoder = encoder\n",
    "        self.decoder = decoder\n",
    "        self.prior = prior\n",
    "        self.noise_log_var = self.add_weight(name='var', shape=(1,), initializer='zeros', trainable=True)\n",
    "\n",
    "    @tf.function\n",
    "    def vae_loss(self, data):\n",
    "        values, seasonal = data\n",
    "        z_mean, z_log_var, z = self.encoder(values)\n",
    "        reconstructed = self.decoder(z)\n",
    "        reconstruction_loss = -log_lik_normal_sum(values, reconstructed, self.noise_log_var)/INPUT_SIZE\n",
    "        seasonal_z_mean, seasonal_z_log_var, _ = self.prior(seasonal)\n",
    "        kl_loss_z = kl_divergence_sum(z_mean, z_log_var, seasonal_z_mean, seasonal_z_log_var)/INPUT_SIZE\n",
    "        return reconstruction_loss, kl_loss_z\n",
    "\n",
    "    def train_step(self, data):\n",
    "        with tf.GradientTape() as tape:\n",
    "            reconstruction_loss, kl_loss_z = self.vae_loss(data)\n",
    "            total_loss = reconstruction_loss + kl_loss_z\n",
    "        \n",
    "        gradients = tape.gradient(total_loss, self.trainable_variables)\n",
    "        self.optimizer.apply_gradients(zip(gradients, self.trainable_variables))\n",
    "        \n",
    "        return {'loss': total_loss}\n",
    "    \n",
    "    def test_step(self, data):\n",
    "        reconstruction_loss, kl_loss_z = self.vae_loss(data)\n",
    "\n",
    "        return {'loss': reconstruction_loss + kl_loss_z, 'recon': reconstruction_loss, 'kl': kl_loss_z}\n",
    "\n",
    "    def call(self, inputs):\n",
    "        _, _, z = self.encoder(inputs)\n",
    "        reconstructed = self.decoder(z)\n",
    "        return reconstructed\n",
    "\n",
    "vae = VAE(encoder=encoder, decoder=decoder, prior=seasonal_prior)"
   ]
  },
  {
   "cell_type": "markdown",
   "metadata": {},
   "source": [
    "## Train Model"
   ]
  },
  {
   "cell_type": "code",
   "execution_count": 14,
   "metadata": {},
   "outputs": [],
   "source": [
    "learning_rate = 0.001\n",
    "\n",
    "optimizer = Adam(learning_rate=learning_rate)\n",
    "\n",
    "vae.compile(optimizer=optimizer)"
   ]
  },
  {
   "cell_type": "code",
   "execution_count": 17,
   "metadata": {},
   "outputs": [
    {
     "name": "stdout",
     "output_type": "stream",
     "text": [
      "Epoch 1/100\n",
      "\u001b[1m8/8\u001b[0m \u001b[32m━━━━━━━━━━━━━━━━━━━━\u001b[0m\u001b[37m\u001b[0m \u001b[1m0s\u001b[0m 15ms/step - loss: -0.6181 - val_kl: 0.1395 - val_loss: -0.6542 - val_recon: -0.7937\n",
      "Epoch 2/100\n",
      "\u001b[1m8/8\u001b[0m \u001b[32m━━━━━━━━━━━━━━━━━━━━\u001b[0m\u001b[37m\u001b[0m \u001b[1m0s\u001b[0m 11ms/step - loss: -0.6052 - val_kl: 0.1405 - val_loss: -0.6630 - val_recon: -0.8035\n",
      "Epoch 3/100\n",
      "\u001b[1m8/8\u001b[0m \u001b[32m━━━━━━━━━━━━━━━━━━━━\u001b[0m\u001b[37m\u001b[0m \u001b[1m0s\u001b[0m 11ms/step - loss: -0.6056 - val_kl: 0.1413 - val_loss: -0.6607 - val_recon: -0.8021\n",
      "Epoch 4/100\n",
      "\u001b[1m8/8\u001b[0m \u001b[32m━━━━━━━━━━━━━━━━━━━━\u001b[0m\u001b[37m\u001b[0m \u001b[1m0s\u001b[0m 12ms/step - loss: -0.6116 - val_kl: 0.1402 - val_loss: -0.6638 - val_recon: -0.8041\n",
      "Epoch 5/100\n",
      "\u001b[1m8/8\u001b[0m \u001b[32m━━━━━━━━━━━━━━━━━━━━\u001b[0m\u001b[37m\u001b[0m \u001b[1m0s\u001b[0m 11ms/step - loss: -0.6079 - val_kl: 0.1411 - val_loss: -0.6593 - val_recon: -0.8004\n",
      "Epoch 6/100\n",
      "\u001b[1m8/8\u001b[0m \u001b[32m━━━━━━━━━━━━━━━━━━━━\u001b[0m\u001b[37m\u001b[0m \u001b[1m0s\u001b[0m 11ms/step - loss: -0.6132 - val_kl: 0.1411 - val_loss: -0.6601 - val_recon: -0.8011\n",
      "Epoch 7/100\n",
      "\u001b[1m8/8\u001b[0m \u001b[32m━━━━━━━━━━━━━━━━━━━━\u001b[0m\u001b[37m\u001b[0m \u001b[1m0s\u001b[0m 11ms/step - loss: -0.6116 - val_kl: 0.1413 - val_loss: -0.6612 - val_recon: -0.8025\n",
      "Epoch 8/100\n",
      "\u001b[1m8/8\u001b[0m \u001b[32m━━━━━━━━━━━━━━━━━━━━\u001b[0m\u001b[37m\u001b[0m \u001b[1m0s\u001b[0m 11ms/step - loss: -0.6104 - val_kl: 0.1412 - val_loss: -0.6656 - val_recon: -0.8068\n",
      "Epoch 9/100\n",
      "\u001b[1m8/8\u001b[0m \u001b[32m━━━━━━━━━━━━━━━━━━━━\u001b[0m\u001b[37m\u001b[0m \u001b[1m0s\u001b[0m 11ms/step - loss: -0.6160 - val_kl: 0.1413 - val_loss: -0.6638 - val_recon: -0.8051\n",
      "Epoch 10/100\n",
      "\u001b[1m8/8\u001b[0m \u001b[32m━━━━━━━━━━━━━━━━━━━━\u001b[0m\u001b[37m\u001b[0m \u001b[1m0s\u001b[0m 13ms/step - loss: -0.6093 - val_kl: 0.1417 - val_loss: -0.6661 - val_recon: -0.8079\n",
      "Epoch 11/100\n",
      "\u001b[1m8/8\u001b[0m \u001b[32m━━━━━━━━━━━━━━━━━━━━\u001b[0m\u001b[37m\u001b[0m \u001b[1m0s\u001b[0m 11ms/step - loss: -0.6087 - val_kl: 0.1407 - val_loss: -0.6655 - val_recon: -0.8061\n",
      "Epoch 12/100\n",
      "\u001b[1m8/8\u001b[0m \u001b[32m━━━━━━━━━━━━━━━━━━━━\u001b[0m\u001b[37m\u001b[0m \u001b[1m0s\u001b[0m 11ms/step - loss: -0.6153 - val_kl: 0.1417 - val_loss: -0.6625 - val_recon: -0.8042\n",
      "Epoch 13/100\n",
      "\u001b[1m8/8\u001b[0m \u001b[32m━━━━━━━━━━━━━━━━━━━━\u001b[0m\u001b[37m\u001b[0m \u001b[1m0s\u001b[0m 11ms/step - loss: -0.6059 - val_kl: 0.1427 - val_loss: -0.6630 - val_recon: -0.8057\n",
      "Epoch 14/100\n",
      "\u001b[1m8/8\u001b[0m \u001b[32m━━━━━━━━━━━━━━━━━━━━\u001b[0m\u001b[37m\u001b[0m \u001b[1m0s\u001b[0m 11ms/step - loss: -0.6165 - val_kl: 0.1430 - val_loss: -0.6661 - val_recon: -0.8091\n",
      "Epoch 15/100\n",
      "\u001b[1m8/8\u001b[0m \u001b[32m━━━━━━━━━━━━━━━━━━━━\u001b[0m\u001b[37m\u001b[0m \u001b[1m0s\u001b[0m 11ms/step - loss: -0.6205 - val_kl: 0.1427 - val_loss: -0.6621 - val_recon: -0.8047\n",
      "Epoch 16/100\n",
      "\u001b[1m8/8\u001b[0m \u001b[32m━━━━━━━━━━━━━━━━━━━━\u001b[0m\u001b[37m\u001b[0m \u001b[1m0s\u001b[0m 11ms/step - loss: -0.6216 - val_kl: 0.1420 - val_loss: -0.6612 - val_recon: -0.8032\n",
      "Epoch 17/100\n",
      "\u001b[1m8/8\u001b[0m \u001b[32m━━━━━━━━━━━━━━━━━━━━\u001b[0m\u001b[37m\u001b[0m \u001b[1m0s\u001b[0m 12ms/step - loss: -0.6186 - val_kl: 0.1418 - val_loss: -0.6632 - val_recon: -0.8050\n",
      "Epoch 18/100\n",
      "\u001b[1m8/8\u001b[0m \u001b[32m━━━━━━━━━━━━━━━━━━━━\u001b[0m\u001b[37m\u001b[0m \u001b[1m0s\u001b[0m 13ms/step - loss: -0.6011 - val_kl: 0.1431 - val_loss: -0.6572 - val_recon: -0.8003\n",
      "Epoch 19/100\n",
      "\u001b[1m8/8\u001b[0m \u001b[32m━━━━━━━━━━━━━━━━━━━━\u001b[0m\u001b[37m\u001b[0m \u001b[1m0s\u001b[0m 12ms/step - loss: -0.6066 - val_kl: 0.1430 - val_loss: -0.6593 - val_recon: -0.8023\n",
      "Epoch 20/100\n",
      "\u001b[1m8/8\u001b[0m \u001b[32m━━━━━━━━━━━━━━━━━━━━\u001b[0m\u001b[37m\u001b[0m \u001b[1m0s\u001b[0m 12ms/step - loss: -0.6112 - val_kl: 0.1434 - val_loss: -0.6625 - val_recon: -0.8060\n",
      "Epoch 21/100\n",
      "\u001b[1m8/8\u001b[0m \u001b[32m━━━━━━━━━━━━━━━━━━━━\u001b[0m\u001b[37m\u001b[0m \u001b[1m0s\u001b[0m 11ms/step - loss: -0.6114 - val_kl: 0.1442 - val_loss: -0.6617 - val_recon: -0.8059\n",
      "Epoch 22/100\n",
      "\u001b[1m8/8\u001b[0m \u001b[32m━━━━━━━━━━━━━━━━━━━━\u001b[0m\u001b[37m\u001b[0m \u001b[1m0s\u001b[0m 12ms/step - loss: -0.6167 - val_kl: 0.1435 - val_loss: -0.6661 - val_recon: -0.8096\n",
      "Epoch 23/100\n",
      "\u001b[1m8/8\u001b[0m \u001b[32m━━━━━━━━━━━━━━━━━━━━\u001b[0m\u001b[37m\u001b[0m \u001b[1m0s\u001b[0m 12ms/step - loss: -0.6150 - val_kl: 0.1432 - val_loss: -0.6651 - val_recon: -0.8082\n",
      "Epoch 24/100\n",
      "\u001b[1m8/8\u001b[0m \u001b[32m━━━━━━━━━━━━━━━━━━━━\u001b[0m\u001b[37m\u001b[0m \u001b[1m0s\u001b[0m 12ms/step - loss: -0.6180 - val_kl: 0.1428 - val_loss: -0.6658 - val_recon: -0.8086\n",
      "Epoch 25/100\n",
      "\u001b[1m8/8\u001b[0m \u001b[32m━━━━━━━━━━━━━━━━━━━━\u001b[0m\u001b[37m\u001b[0m \u001b[1m0s\u001b[0m 12ms/step - loss: -0.6272 - val_kl: 0.1437 - val_loss: -0.6675 - val_recon: -0.8112\n",
      "Epoch 26/100\n",
      "\u001b[1m8/8\u001b[0m \u001b[32m━━━━━━━━━━━━━━━━━━━━\u001b[0m\u001b[37m\u001b[0m \u001b[1m0s\u001b[0m 14ms/step - loss: -0.6167 - val_kl: 0.1435 - val_loss: -0.6639 - val_recon: -0.8074\n",
      "Epoch 27/100\n",
      "\u001b[1m8/8\u001b[0m \u001b[32m━━━━━━━━━━━━━━━━━━━━\u001b[0m\u001b[37m\u001b[0m \u001b[1m0s\u001b[0m 11ms/step - loss: -0.6253 - val_kl: 0.1442 - val_loss: -0.6661 - val_recon: -0.8103\n",
      "Epoch 28/100\n",
      "\u001b[1m8/8\u001b[0m \u001b[32m━━━━━━━━━━━━━━━━━━━━\u001b[0m\u001b[37m\u001b[0m \u001b[1m0s\u001b[0m 11ms/step - loss: -0.6172 - val_kl: 0.1448 - val_loss: -0.6645 - val_recon: -0.8093\n",
      "Epoch 29/100\n",
      "\u001b[1m8/8\u001b[0m \u001b[32m━━━━━━━━━━━━━━━━━━━━\u001b[0m\u001b[37m\u001b[0m \u001b[1m0s\u001b[0m 12ms/step - loss: -0.6051 - val_kl: 0.1442 - val_loss: -0.6625 - val_recon: -0.8067\n",
      "Epoch 30/100\n",
      "\u001b[1m8/8\u001b[0m \u001b[32m━━━━━━━━━━━━━━━━━━━━\u001b[0m\u001b[37m\u001b[0m \u001b[1m0s\u001b[0m 12ms/step - loss: -0.6133 - val_kl: 0.1442 - val_loss: -0.6569 - val_recon: -0.8011\n",
      "Epoch 31/100\n",
      "\u001b[1m8/8\u001b[0m \u001b[32m━━━━━━━━━━━━━━━━━━━━\u001b[0m\u001b[37m\u001b[0m \u001b[1m0s\u001b[0m 11ms/step - loss: -0.6109 - val_kl: 0.1449 - val_loss: -0.6665 - val_recon: -0.8114\n",
      "Epoch 32/100\n",
      "\u001b[1m8/8\u001b[0m \u001b[32m━━━━━━━━━━━━━━━━━━━━\u001b[0m\u001b[37m\u001b[0m \u001b[1m0s\u001b[0m 11ms/step - loss: -0.6126 - val_kl: 0.1451 - val_loss: -0.6609 - val_recon: -0.8060\n",
      "Epoch 33/100\n",
      "\u001b[1m8/8\u001b[0m \u001b[32m━━━━━━━━━━━━━━━━━━━━\u001b[0m\u001b[37m\u001b[0m \u001b[1m0s\u001b[0m 11ms/step - loss: -0.6205 - val_kl: 0.1452 - val_loss: -0.6727 - val_recon: -0.8178\n",
      "Epoch 34/100\n",
      "\u001b[1m8/8\u001b[0m \u001b[32m━━━━━━━━━━━━━━━━━━━━\u001b[0m\u001b[37m\u001b[0m \u001b[1m0s\u001b[0m 11ms/step - loss: -0.6160 - val_kl: 0.1454 - val_loss: -0.6671 - val_recon: -0.8126\n",
      "Epoch 35/100\n",
      "\u001b[1m8/8\u001b[0m \u001b[32m━━━━━━━━━━━━━━━━━━━━\u001b[0m\u001b[37m\u001b[0m \u001b[1m0s\u001b[0m 12ms/step - loss: -0.6190 - val_kl: 0.1458 - val_loss: -0.6684 - val_recon: -0.8142\n",
      "Epoch 36/100\n",
      "\u001b[1m8/8\u001b[0m \u001b[32m━━━━━━━━━━━━━━━━━━━━\u001b[0m\u001b[37m\u001b[0m \u001b[1m0s\u001b[0m 12ms/step - loss: -0.6082 - val_kl: 0.1447 - val_loss: -0.6689 - val_recon: -0.8135\n",
      "Epoch 37/100\n",
      "\u001b[1m8/8\u001b[0m \u001b[32m━━━━━━━━━━━━━━━━━━━━\u001b[0m\u001b[37m\u001b[0m \u001b[1m0s\u001b[0m 12ms/step - loss: -0.6223 - val_kl: 0.1460 - val_loss: -0.6711 - val_recon: -0.8171\n",
      "Epoch 38/100\n",
      "\u001b[1m8/8\u001b[0m \u001b[32m━━━━━━━━━━━━━━━━━━━━\u001b[0m\u001b[37m\u001b[0m \u001b[1m0s\u001b[0m 12ms/step - loss: -0.6179 - val_kl: 0.1463 - val_loss: -0.6616 - val_recon: -0.8079\n",
      "Epoch 39/100\n",
      "\u001b[1m8/8\u001b[0m \u001b[32m━━━━━━━━━━━━━━━━━━━━\u001b[0m\u001b[37m\u001b[0m \u001b[1m0s\u001b[0m 12ms/step - loss: -0.6197 - val_kl: 0.1458 - val_loss: -0.6686 - val_recon: -0.8144\n",
      "Epoch 40/100\n",
      "\u001b[1m8/8\u001b[0m \u001b[32m━━━━━━━━━━━━━━━━━━━━\u001b[0m\u001b[37m\u001b[0m \u001b[1m0s\u001b[0m 12ms/step - loss: -0.6266 - val_kl: 0.1451 - val_loss: -0.6672 - val_recon: -0.8122\n",
      "Epoch 41/100\n",
      "\u001b[1m8/8\u001b[0m \u001b[32m━━━━━━━━━━━━━━━━━━━━\u001b[0m\u001b[37m\u001b[0m \u001b[1m0s\u001b[0m 12ms/step - loss: -0.6231 - val_kl: 0.1460 - val_loss: -0.6703 - val_recon: -0.8163\n",
      "Epoch 42/100\n",
      "\u001b[1m8/8\u001b[0m \u001b[32m━━━━━━━━━━━━━━━━━━━━\u001b[0m\u001b[37m\u001b[0m \u001b[1m0s\u001b[0m 13ms/step - loss: -0.6179 - val_kl: 0.1453 - val_loss: -0.6619 - val_recon: -0.8073\n",
      "Epoch 43/100\n",
      "\u001b[1m8/8\u001b[0m \u001b[32m━━━━━━━━━━━━━━━━━━━━\u001b[0m\u001b[37m\u001b[0m \u001b[1m0s\u001b[0m 12ms/step - loss: -0.6164 - val_kl: 0.1447 - val_loss: -0.6685 - val_recon: -0.8131\n",
      "Epoch 44/100\n",
      "\u001b[1m8/8\u001b[0m \u001b[32m━━━━━━━━━━━━━━━━━━━━\u001b[0m\u001b[37m\u001b[0m \u001b[1m0s\u001b[0m 12ms/step - loss: -0.6311 - val_kl: 0.1456 - val_loss: -0.6660 - val_recon: -0.8116\n",
      "Epoch 45/100\n",
      "\u001b[1m8/8\u001b[0m \u001b[32m━━━━━━━━━━━━━━━━━━━━\u001b[0m\u001b[37m\u001b[0m \u001b[1m0s\u001b[0m 11ms/step - loss: -0.6244 - val_kl: 0.1452 - val_loss: -0.6689 - val_recon: -0.8141\n",
      "Epoch 46/100\n",
      "\u001b[1m8/8\u001b[0m \u001b[32m━━━━━━━━━━━━━━━━━━━━\u001b[0m\u001b[37m\u001b[0m \u001b[1m0s\u001b[0m 13ms/step - loss: -0.6212 - val_kl: 0.1456 - val_loss: -0.6721 - val_recon: -0.8177\n",
      "Epoch 47/100\n",
      "\u001b[1m8/8\u001b[0m \u001b[32m━━━━━━━━━━━━━━━━━━━━\u001b[0m\u001b[37m\u001b[0m \u001b[1m0s\u001b[0m 15ms/step - loss: -0.6229 - val_kl: 0.1463 - val_loss: -0.6755 - val_recon: -0.8218\n",
      "Epoch 48/100\n",
      "\u001b[1m8/8\u001b[0m \u001b[32m━━━━━━━━━━━━━━━━━━━━\u001b[0m\u001b[37m\u001b[0m \u001b[1m0s\u001b[0m 16ms/step - loss: -0.6231 - val_kl: 0.1474 - val_loss: -0.6684 - val_recon: -0.8158\n",
      "Epoch 49/100\n",
      "\u001b[1m8/8\u001b[0m \u001b[32m━━━━━━━━━━━━━━━━━━━━\u001b[0m\u001b[37m\u001b[0m \u001b[1m0s\u001b[0m 16ms/step - loss: -0.6324 - val_kl: 0.1459 - val_loss: -0.6702 - val_recon: -0.8160\n",
      "Epoch 50/100\n",
      "\u001b[1m8/8\u001b[0m \u001b[32m━━━━━━━━━━━━━━━━━━━━\u001b[0m\u001b[37m\u001b[0m \u001b[1m0s\u001b[0m 17ms/step - loss: -0.6155 - val_kl: 0.1457 - val_loss: -0.6710 - val_recon: -0.8167\n",
      "Epoch 51/100\n",
      "\u001b[1m8/8\u001b[0m \u001b[32m━━━━━━━━━━━━━━━━━━━━\u001b[0m\u001b[37m\u001b[0m \u001b[1m0s\u001b[0m 17ms/step - loss: -0.6206 - val_kl: 0.1472 - val_loss: -0.6753 - val_recon: -0.8225\n",
      "Epoch 52/100\n",
      "\u001b[1m8/8\u001b[0m \u001b[32m━━━━━━━━━━━━━━━━━━━━\u001b[0m\u001b[37m\u001b[0m \u001b[1m0s\u001b[0m 17ms/step - loss: -0.6279 - val_kl: 0.1473 - val_loss: -0.6687 - val_recon: -0.8160\n",
      "Epoch 53/100\n",
      "\u001b[1m8/8\u001b[0m \u001b[32m━━━━━━━━━━━━━━━━━━━━\u001b[0m\u001b[37m\u001b[0m \u001b[1m0s\u001b[0m 17ms/step - loss: -0.6274 - val_kl: 0.1475 - val_loss: -0.6764 - val_recon: -0.8239\n",
      "Epoch 54/100\n",
      "\u001b[1m8/8\u001b[0m \u001b[32m━━━━━━━━━━━━━━━━━━━━\u001b[0m\u001b[37m\u001b[0m \u001b[1m0s\u001b[0m 16ms/step - loss: -0.6301 - val_kl: 0.1465 - val_loss: -0.6760 - val_recon: -0.8225\n",
      "Epoch 55/100\n",
      "\u001b[1m8/8\u001b[0m \u001b[32m━━━━━━━━━━━━━━━━━━━━\u001b[0m\u001b[37m\u001b[0m \u001b[1m0s\u001b[0m 16ms/step - loss: -0.6255 - val_kl: 0.1475 - val_loss: -0.6736 - val_recon: -0.8211\n",
      "Epoch 56/100\n",
      "\u001b[1m8/8\u001b[0m \u001b[32m━━━━━━━━━━━━━━━━━━━━\u001b[0m\u001b[37m\u001b[0m \u001b[1m0s\u001b[0m 16ms/step - loss: -0.6241 - val_kl: 0.1484 - val_loss: -0.6697 - val_recon: -0.8181\n",
      "Epoch 57/100\n",
      "\u001b[1m8/8\u001b[0m \u001b[32m━━━━━━━━━━━━━━━━━━━━\u001b[0m\u001b[37m\u001b[0m \u001b[1m0s\u001b[0m 19ms/step - loss: -0.6222 - val_kl: 0.1480 - val_loss: -0.6753 - val_recon: -0.8233\n",
      "Epoch 58/100\n",
      "\u001b[1m8/8\u001b[0m \u001b[32m━━━━━━━━━━━━━━━━━━━━\u001b[0m\u001b[37m\u001b[0m \u001b[1m0s\u001b[0m 17ms/step - loss: -0.6120 - val_kl: 0.1456 - val_loss: -0.6673 - val_recon: -0.8129\n",
      "Epoch 59/100\n",
      "\u001b[1m8/8\u001b[0m \u001b[32m━━━━━━━━━━━━━━━━━━━━\u001b[0m\u001b[37m\u001b[0m \u001b[1m0s\u001b[0m 18ms/step - loss: -0.6054 - val_kl: 0.1475 - val_loss: -0.6694 - val_recon: -0.8170\n",
      "Epoch 60/100\n",
      "\u001b[1m8/8\u001b[0m \u001b[32m━━━━━━━━━━━━━━━━━━━━\u001b[0m\u001b[37m\u001b[0m \u001b[1m0s\u001b[0m 17ms/step - loss: -0.6301 - val_kl: 0.1482 - val_loss: -0.6753 - val_recon: -0.8235\n",
      "Epoch 61/100\n",
      "\u001b[1m8/8\u001b[0m \u001b[32m━━━━━━━━━━━━━━━━━━━━\u001b[0m\u001b[37m\u001b[0m \u001b[1m0s\u001b[0m 16ms/step - loss: -0.6176 - val_kl: 0.1471 - val_loss: -0.6720 - val_recon: -0.8191\n",
      "Epoch 62/100\n",
      "\u001b[1m8/8\u001b[0m \u001b[32m━━━━━━━━━━━━━━━━━━━━\u001b[0m\u001b[37m\u001b[0m \u001b[1m0s\u001b[0m 17ms/step - loss: -0.6099 - val_kl: 0.1473 - val_loss: -0.6712 - val_recon: -0.8184\n",
      "Epoch 63/100\n",
      "\u001b[1m8/8\u001b[0m \u001b[32m━━━━━━━━━━━━━━━━━━━━\u001b[0m\u001b[37m\u001b[0m \u001b[1m0s\u001b[0m 18ms/step - loss: -0.6219 - val_kl: 0.1465 - val_loss: -0.6681 - val_recon: -0.8146\n",
      "Epoch 64/100\n",
      "\u001b[1m8/8\u001b[0m \u001b[32m━━━━━━━━━━━━━━━━━━━━\u001b[0m\u001b[37m\u001b[0m \u001b[1m0s\u001b[0m 20ms/step - loss: -0.6211 - val_kl: 0.1476 - val_loss: -0.6735 - val_recon: -0.8211\n",
      "Epoch 65/100\n",
      "\u001b[1m8/8\u001b[0m \u001b[32m━━━━━━━━━━━━━━━━━━━━\u001b[0m\u001b[37m\u001b[0m \u001b[1m0s\u001b[0m 23ms/step - loss: -0.6278 - val_kl: 0.1477 - val_loss: -0.6664 - val_recon: -0.8141\n",
      "Epoch 66/100\n",
      "\u001b[1m8/8\u001b[0m \u001b[32m━━━━━━━━━━━━━━━━━━━━\u001b[0m\u001b[37m\u001b[0m \u001b[1m0s\u001b[0m 23ms/step - loss: -0.6293 - val_kl: 0.1474 - val_loss: -0.6714 - val_recon: -0.8188\n",
      "Epoch 67/100\n",
      "\u001b[1m8/8\u001b[0m \u001b[32m━━━━━━━━━━━━━━━━━━━━\u001b[0m\u001b[37m\u001b[0m \u001b[1m0s\u001b[0m 24ms/step - loss: -0.6286 - val_kl: 0.1472 - val_loss: -0.6759 - val_recon: -0.8232\n",
      "Epoch 68/100\n",
      "\u001b[1m8/8\u001b[0m \u001b[32m━━━━━━━━━━━━━━━━━━━━\u001b[0m\u001b[37m\u001b[0m \u001b[1m0s\u001b[0m 27ms/step - loss: -0.6300 - val_kl: 0.1479 - val_loss: -0.6753 - val_recon: -0.8232\n",
      "Epoch 69/100\n",
      "\u001b[1m8/8\u001b[0m \u001b[32m━━━━━━━━━━━━━━━━━━━━\u001b[0m\u001b[37m\u001b[0m \u001b[1m0s\u001b[0m 27ms/step - loss: -0.6236 - val_kl: 0.1489 - val_loss: -0.6673 - val_recon: -0.8162\n",
      "Epoch 70/100\n",
      "\u001b[1m8/8\u001b[0m \u001b[32m━━━━━━━━━━━━━━━━━━━━\u001b[0m\u001b[37m\u001b[0m \u001b[1m0s\u001b[0m 27ms/step - loss: -0.6198 - val_kl: 0.1484 - val_loss: -0.6757 - val_recon: -0.8241\n",
      "Epoch 71/100\n",
      "\u001b[1m8/8\u001b[0m \u001b[32m━━━━━━━━━━━━━━━━━━━━\u001b[0m\u001b[37m\u001b[0m \u001b[1m0s\u001b[0m 27ms/step - loss: -0.6310 - val_kl: 0.1481 - val_loss: -0.6736 - val_recon: -0.8218\n",
      "Epoch 72/100\n",
      "\u001b[1m8/8\u001b[0m \u001b[32m━━━━━━━━━━━━━━━━━━━━\u001b[0m\u001b[37m\u001b[0m \u001b[1m0s\u001b[0m 24ms/step - loss: -0.6223 - val_kl: 0.1478 - val_loss: -0.6721 - val_recon: -0.8199\n",
      "Epoch 73/100\n",
      "\u001b[1m8/8\u001b[0m \u001b[32m━━━━━━━━━━━━━━━━━━━━\u001b[0m\u001b[37m\u001b[0m \u001b[1m0s\u001b[0m 13ms/step - loss: -0.6222 - val_kl: 0.1475 - val_loss: -0.6727 - val_recon: -0.8202\n",
      "Epoch 74/100\n",
      "\u001b[1m8/8\u001b[0m \u001b[32m━━━━━━━━━━━━━━━━━━━━\u001b[0m\u001b[37m\u001b[0m \u001b[1m0s\u001b[0m 13ms/step - loss: -0.6354 - val_kl: 0.1480 - val_loss: -0.6702 - val_recon: -0.8182\n",
      "Epoch 75/100\n",
      "\u001b[1m8/8\u001b[0m \u001b[32m━━━━━━━━━━━━━━━━━━━━\u001b[0m\u001b[37m\u001b[0m \u001b[1m0s\u001b[0m 13ms/step - loss: -0.6235 - val_kl: 0.1484 - val_loss: -0.6784 - val_recon: -0.8268\n",
      "Epoch 76/100\n",
      "\u001b[1m8/8\u001b[0m \u001b[32m━━━━━━━━━━━━━━━━━━━━\u001b[0m\u001b[37m\u001b[0m \u001b[1m0s\u001b[0m 15ms/step - loss: -0.6354 - val_kl: 0.1488 - val_loss: -0.6786 - val_recon: -0.8274\n",
      "Epoch 77/100\n",
      "\u001b[1m8/8\u001b[0m \u001b[32m━━━━━━━━━━━━━━━━━━━━\u001b[0m\u001b[37m\u001b[0m \u001b[1m0s\u001b[0m 15ms/step - loss: -0.6239 - val_kl: 0.1490 - val_loss: -0.6803 - val_recon: -0.8293\n",
      "Epoch 78/100\n",
      "\u001b[1m8/8\u001b[0m \u001b[32m━━━━━━━━━━━━━━━━━━━━\u001b[0m\u001b[37m\u001b[0m \u001b[1m0s\u001b[0m 15ms/step - loss: -0.6301 - val_kl: 0.1500 - val_loss: -0.6764 - val_recon: -0.8263\n",
      "Epoch 79/100\n",
      "\u001b[1m8/8\u001b[0m \u001b[32m━━━━━━━━━━━━━━━━━━━━\u001b[0m\u001b[37m\u001b[0m \u001b[1m0s\u001b[0m 16ms/step - loss: -0.6364 - val_kl: 0.1486 - val_loss: -0.6812 - val_recon: -0.8298\n",
      "Epoch 80/100\n",
      "\u001b[1m8/8\u001b[0m \u001b[32m━━━━━━━━━━━━━━━━━━━━\u001b[0m\u001b[37m\u001b[0m \u001b[1m0s\u001b[0m 16ms/step - loss: -0.6325 - val_kl: 0.1488 - val_loss: -0.6781 - val_recon: -0.8269\n",
      "Epoch 81/100\n",
      "\u001b[1m8/8\u001b[0m \u001b[32m━━━━━━━━━━━━━━━━━━━━\u001b[0m\u001b[37m\u001b[0m \u001b[1m0s\u001b[0m 16ms/step - loss: -0.6375 - val_kl: 0.1496 - val_loss: -0.6790 - val_recon: -0.8286\n",
      "Epoch 82/100\n",
      "\u001b[1m8/8\u001b[0m \u001b[32m━━━━━━━━━━━━━━━━━━━━\u001b[0m\u001b[37m\u001b[0m \u001b[1m0s\u001b[0m 18ms/step - loss: -0.6351 - val_kl: 0.1482 - val_loss: -0.6795 - val_recon: -0.8277\n",
      "Epoch 83/100\n",
      "\u001b[1m8/8\u001b[0m \u001b[32m━━━━━━━━━━━━━━━━━━━━\u001b[0m\u001b[37m\u001b[0m \u001b[1m0s\u001b[0m 16ms/step - loss: -0.6385 - val_kl: 0.1490 - val_loss: -0.6858 - val_recon: -0.8348\n",
      "Epoch 84/100\n",
      "\u001b[1m8/8\u001b[0m \u001b[32m━━━━━━━━━━━━━━━━━━━━\u001b[0m\u001b[37m\u001b[0m \u001b[1m0s\u001b[0m 17ms/step - loss: -0.6327 - val_kl: 0.1494 - val_loss: -0.6810 - val_recon: -0.8304\n",
      "Epoch 85/100\n",
      "\u001b[1m8/8\u001b[0m \u001b[32m━━━━━━━━━━━━━━━━━━━━\u001b[0m\u001b[37m\u001b[0m \u001b[1m0s\u001b[0m 17ms/step - loss: -0.6316 - val_kl: 0.1503 - val_loss: -0.6728 - val_recon: -0.8231\n",
      "Epoch 86/100\n",
      "\u001b[1m8/8\u001b[0m \u001b[32m━━━━━━━━━━━━━━━━━━━━\u001b[0m\u001b[37m\u001b[0m \u001b[1m0s\u001b[0m 17ms/step - loss: -0.6291 - val_kl: 0.1503 - val_loss: -0.6761 - val_recon: -0.8264\n",
      "Epoch 87/100\n",
      "\u001b[1m8/8\u001b[0m \u001b[32m━━━━━━━━━━━━━━━━━━━━\u001b[0m\u001b[37m\u001b[0m \u001b[1m0s\u001b[0m 16ms/step - loss: -0.6254 - val_kl: 0.1513 - val_loss: -0.6817 - val_recon: -0.8330\n",
      "Epoch 88/100\n",
      "\u001b[1m8/8\u001b[0m \u001b[32m━━━━━━━━━━━━━━━━━━━━\u001b[0m\u001b[37m\u001b[0m \u001b[1m0s\u001b[0m 16ms/step - loss: -0.6235 - val_kl: 0.1509 - val_loss: -0.6747 - val_recon: -0.8256\n",
      "Epoch 89/100\n",
      "\u001b[1m8/8\u001b[0m \u001b[32m━━━━━━━━━━━━━━━━━━━━\u001b[0m\u001b[37m\u001b[0m \u001b[1m0s\u001b[0m 16ms/step - loss: -0.6280 - val_kl: 0.1494 - val_loss: -0.6728 - val_recon: -0.8222\n",
      "Epoch 90/100\n",
      "\u001b[1m8/8\u001b[0m \u001b[32m━━━━━━━━━━━━━━━━━━━━\u001b[0m\u001b[37m\u001b[0m \u001b[1m0s\u001b[0m 16ms/step - loss: -0.6389 - val_kl: 0.1501 - val_loss: -0.6756 - val_recon: -0.8257\n",
      "Epoch 91/100\n",
      "\u001b[1m8/8\u001b[0m \u001b[32m━━━━━━━━━━━━━━━━━━━━\u001b[0m\u001b[37m\u001b[0m \u001b[1m0s\u001b[0m 16ms/step - loss: -0.6362 - val_kl: 0.1515 - val_loss: -0.6804 - val_recon: -0.8319\n",
      "Epoch 92/100\n",
      "\u001b[1m8/8\u001b[0m \u001b[32m━━━━━━━━━━━━━━━━━━━━\u001b[0m\u001b[37m\u001b[0m \u001b[1m0s\u001b[0m 16ms/step - loss: -0.6198 - val_kl: 0.1503 - val_loss: -0.6813 - val_recon: -0.8316\n",
      "Epoch 93/100\n",
      "\u001b[1m8/8\u001b[0m \u001b[32m━━━━━━━━━━━━━━━━━━━━\u001b[0m\u001b[37m\u001b[0m \u001b[1m0s\u001b[0m 17ms/step - loss: -0.6326 - val_kl: 0.1493 - val_loss: -0.6770 - val_recon: -0.8264\n",
      "Epoch 94/100\n",
      "\u001b[1m8/8\u001b[0m \u001b[32m━━━━━━━━━━━━━━━━━━━━\u001b[0m\u001b[37m\u001b[0m \u001b[1m0s\u001b[0m 20ms/step - loss: -0.6300 - val_kl: 0.1497 - val_loss: -0.6798 - val_recon: -0.8295\n",
      "Epoch 95/100\n",
      "\u001b[1m8/8\u001b[0m \u001b[32m━━━━━━━━━━━━━━━━━━━━\u001b[0m\u001b[37m\u001b[0m \u001b[1m0s\u001b[0m 18ms/step - loss: -0.6375 - val_kl: 0.1507 - val_loss: -0.6780 - val_recon: -0.8287\n",
      "Epoch 96/100\n",
      "\u001b[1m8/8\u001b[0m \u001b[32m━━━━━━━━━━━━━━━━━━━━\u001b[0m\u001b[37m\u001b[0m \u001b[1m0s\u001b[0m 16ms/step - loss: -0.6341 - val_kl: 0.1505 - val_loss: -0.6840 - val_recon: -0.8345\n",
      "Epoch 97/100\n",
      "\u001b[1m8/8\u001b[0m \u001b[32m━━━━━━━━━━━━━━━━━━━━\u001b[0m\u001b[37m\u001b[0m \u001b[1m0s\u001b[0m 16ms/step - loss: -0.6415 - val_kl: 0.1510 - val_loss: -0.6787 - val_recon: -0.8298\n",
      "Epoch 98/100\n",
      "\u001b[1m8/8\u001b[0m \u001b[32m━━━━━━━━━━━━━━━━━━━━\u001b[0m\u001b[37m\u001b[0m \u001b[1m0s\u001b[0m 16ms/step - loss: -0.6353 - val_kl: 0.1505 - val_loss: -0.6849 - val_recon: -0.8354\n",
      "Epoch 99/100\n",
      "\u001b[1m8/8\u001b[0m \u001b[32m━━━━━━━━━━━━━━━━━━━━\u001b[0m\u001b[37m\u001b[0m \u001b[1m0s\u001b[0m 16ms/step - loss: -0.6334 - val_kl: 0.1504 - val_loss: -0.6788 - val_recon: -0.8292\n",
      "Epoch 100/100\n",
      "\u001b[1m8/8\u001b[0m \u001b[32m━━━━━━━━━━━━━━━━━━━━\u001b[0m\u001b[37m\u001b[0m \u001b[1m0s\u001b[0m 16ms/step - loss: -0.6339 - val_kl: 0.1508 - val_loss: -0.6810 - val_recon: -0.8318\n"
     ]
    }
   ],
   "source": [
    "epochs = 100\n",
    "\n",
    "batch_size = 32\n",
    "\n",
    "history = vae.fit(\n",
    "    train_tensor, train_seasonal_tensor, \n",
    "    epochs=epochs,\n",
    "    batch_size=batch_size,\n",
    "    validation_data=(test_tensor, test_seasonal_tensor),\n",
    ")"
   ]
  },
  {
   "cell_type": "markdown",
   "metadata": {},
   "source": [
    "## Model Results"
   ]
  },
  {
   "cell_type": "code",
   "execution_count": 18,
   "metadata": {},
   "outputs": [
    {
     "name": "stdout",
     "output_type": "stream",
     "text": [
      "noise emission sigma:  0.102324024\n"
     ]
    }
   ],
   "source": [
    "# Model reconstruction accuracy\n",
    "print('noise emission sigma: ', np.exp(0.5*vae.noise_log_var)[0])"
   ]
  },
  {
   "cell_type": "code",
   "execution_count": 19,
   "metadata": {},
   "outputs": [
    {
     "name": "stdout",
     "output_type": "stream",
     "text": [
      "Reconstruction loss:  -0.8494765\n",
      "KL loss:              0.14912993\n",
      "Total loss:           -0.7003466\n"
     ]
    }
   ],
   "source": [
    "# Loss on validation data\n",
    "\n",
    "recon_loss, kl_loss = vae.vae_loss((test_tensor, test_seasonal_tensor))\n",
    "recon_loss = recon_loss.numpy()\n",
    "kl_loss = kl_loss.numpy()\n",
    "total_loss = recon_loss + kl_loss\n",
    "\n",
    "print('Reconstruction loss: ', recon_loss)\n",
    "print('KL loss:             ', kl_loss)\n",
    "print('Total loss:          ', total_loss)"
   ]
  },
  {
   "cell_type": "markdown",
   "metadata": {},
   "source": [
    "Review latent variables"
   ]
  },
  {
   "cell_type": "code",
   "execution_count": 20,
   "metadata": {},
   "outputs": [
    {
     "data": {
      "image/png": "[encoded data removed]",
      "text/plain": [
       "<Figure size 1500x500 with 2 Axes>"
      ]
     },
     "metadata": {},
     "output_type": "display_data"
    }
   ],
   "source": [
    "encoded_mean, encoded_log_var, encoded_z = encoder(train_tensor)\n",
    "\n",
    "# set figure size\n",
    "plt.figure(figsize=(15, 5))\n",
    "# boxplot of encoded_mean\n",
    "plt.subplot(1, 2, 1)\n",
    "plt.boxplot(encoded_mean.numpy().reshape(-1, latent_filter))\n",
    "plt.title('Encoded Mean')\n",
    "\n",
    "# boxplot of encoded_log_var\n",
    "plt.subplot(1, 2, 2)\n",
    "plt.boxplot(encoded_log_var.numpy().reshape(-1, latent_filter))\n",
    "plt.title('Encoded Log Variance')\n",
    "\n",
    "plt.show()"
   ]
  },
  {
   "cell_type": "markdown",
   "metadata": {},
   "source": [
    "## Generate Data\n",
    "\n",
    "Use the trained model to generate new time series data"
   ]
  },
  {
   "cell_type": "code",
   "execution_count": 29,
   "metadata": {},
   "outputs": [
    {
     "data": {
      "text/plain": [
       "(1, 4566, 6)"
      ]
     },
     "execution_count": 29,
     "metadata": {},
     "output_type": "execute_result"
    }
   ],
   "source": [
    "start_date = '1974-01-01'\n",
    "end_date = '2023-12-31 23:00:00'\n",
    "dt = pd.date_range(start=start_date, end=end_date, freq='h')\n",
    "\n",
    "gen_seasonal_inputs = fourier((dt.dayofyear[::4*24]-1)/365)[np.newaxis]\n",
    "gen_seasonal_inputs.shape"
   ]
  },
  {
   "cell_type": "code",
   "execution_count": 31,
   "metadata": {},
   "outputs": [
    {
     "data": {
      "text/plain": [
       "TensorShape([1, 4566, 10])"
      ]
     },
     "execution_count": 31,
     "metadata": {},
     "output_type": "execute_result"
    }
   ],
   "source": [
    "_, _, z_gen = seasonal_prior(gen_seasonal_inputs)\n",
    "z_gen.shape"
   ]
  },
  {
   "cell_type": "code",
   "execution_count": 39,
   "metadata": {},
   "outputs": [
    {
     "data": {
      "text/plain": [
       "(1, 438336)"
      ]
     },
     "execution_count": 39,
     "metadata": {},
     "output_type": "execute_result"
    }
   ],
   "source": [
    "gen_mean = decoder(z_gen).numpy()\n",
    "noise = np.random.normal(size=gen_mean.shape)*np.exp(0.5*vae.noise_log_var[0].numpy())\n",
    "gen = gen_mean #+ noise\n",
    "gen.shape"
   ]
  },
  {
   "cell_type": "code",
   "execution_count": 40,
   "metadata": {},
   "outputs": [
    {
     "data": {
      "text/plain": [
       "1974-01-01 00:00:00    40.482704\n",
       "1974-01-01 01:00:00    38.221806\n",
       "1974-01-01 02:00:00    36.132202\n",
       "1974-01-01 03:00:00    32.789696\n",
       "1974-01-01 04:00:00    31.906300\n",
       "                         ...    \n",
       "2023-12-31 19:00:00    64.512405\n",
       "2023-12-31 20:00:00    58.124634\n",
       "2023-12-31 21:00:00    56.781807\n",
       "2023-12-31 22:00:00    54.241039\n",
       "2023-12-31 23:00:00    52.967545\n",
       "Freq: h, Length: 438288, dtype: float32"
      ]
     },
     "execution_count": 40,
     "metadata": {},
     "output_type": "execute_result"
    }
   ],
   "source": [
    "gen_series = pd.Series(gen[0, :len(dt)]*18.29 + 75.08, index=dt)\n",
    "gen_series"
   ]
  },
  {
   "cell_type": "code",
   "execution_count": 41,
   "metadata": {},
   "outputs": [],
   "source": [
    "gen_series.to_csv('data/processed/generated.csv')"
   ]
  },
  {
   "cell_type": "code",
   "execution_count": null,
   "metadata": {},
   "outputs": [],
   "source": []
  }
 ],
 "metadata": {
  "kernelspec": {
   "display_name": "Python 3",
   "language": "python",
   "name": "python3"
  },
  "language_info": {
   "codemirror_mode": {
    "name": "ipython",
    "version": 3
   },
   "file_extension": ".py",
   "mimetype": "text/x-python",
   "name": "python",
   "nbconvert_exporter": "python",
   "pygments_lexer": "ipython3",
   "version": "3.11.9"
  }
 },
 "nbformat": 4,
 "nbformat_minor": 2
}
